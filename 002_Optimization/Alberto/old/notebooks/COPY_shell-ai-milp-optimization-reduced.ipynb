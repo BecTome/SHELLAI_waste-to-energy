{
 "cells": [
  {
   "cell_type": "markdown",
   "id": "c8a1b54c",
   "metadata": {
    "papermill": {
     "duration": 0.005755,
     "end_time": "2023-08-01T16:59:32.548294",
     "exception": false,
     "start_time": "2023-08-01T16:59:32.542539",
     "status": "completed"
    },
    "tags": []
   },
   "source": [
    "This is a **private notebook** to solve the optimization part in the **Shell.ai Hackathon 2023**. **Important, do not publish this notebook or its results anywhere, for private use only**."
   ]
  },
  {
   "cell_type": "markdown",
   "id": "16ba8390",
   "metadata": {
    "papermill": {
     "duration": 0.004776,
     "end_time": "2023-08-01T16:59:32.558387",
     "exception": false,
     "start_time": "2023-08-01T16:59:32.553611",
     "status": "completed"
    },
    "tags": []
   },
   "source": [
    "# 1. Data loading"
   ]
  },
  {
   "cell_type": "code",
   "execution_count": 2,
   "id": "db6125ad",
   "metadata": {
    "execution": {
     "iopub.execute_input": "2023-08-01T16:59:32.570486Z",
     "iopub.status.busy": "2023-08-01T16:59:32.570036Z",
     "iopub.status.idle": "2023-08-01T16:59:49.013053Z",
     "shell.execute_reply": "2023-08-01T16:59:49.011687Z"
    },
    "papermill": {
     "duration": 16.452558,
     "end_time": "2023-08-01T16:59:49.015954",
     "exception": false,
     "start_time": "2023-08-01T16:59:32.563396",
     "status": "completed"
    },
    "tags": []
   },
   "outputs": [
    {
     "name": "stdout",
     "output_type": "stream",
     "text": [
      "Requirement already satisfied: mip in c:\\users\\alber\\appdata\\local\\programs\\python\\python39\\lib\\site-packages (1.15.0)\n",
      "Requirement already satisfied: cffi==1.15.* in c:\\users\\alber\\appdata\\local\\programs\\python\\python39\\lib\\site-packages (from mip) (1.15.1)\n",
      "Requirement already satisfied: pycparser in c:\\users\\alber\\appdata\\local\\programs\\python\\python39\\lib\\site-packages (from cffi==1.15.*->mip) (2.21)\n"
     ]
    }
   ],
   "source": [
    "!pip3 install mip"
   ]
  },
  {
   "cell_type": "code",
   "execution_count": 3,
   "id": "584111a7",
   "metadata": {
    "execution": {
     "iopub.execute_input": "2023-08-01T16:59:49.032671Z",
     "iopub.status.busy": "2023-08-01T16:59:49.032128Z",
     "iopub.status.idle": "2023-08-01T16:59:51.295548Z",
     "shell.execute_reply": "2023-08-01T16:59:51.294422Z"
    },
    "papermill": {
     "duration": 2.275462,
     "end_time": "2023-08-01T16:59:51.298422",
     "exception": false,
     "start_time": "2023-08-01T16:59:49.022960",
     "status": "completed"
    },
    "tags": []
   },
   "outputs": [],
   "source": [
    "import pandas as pd\n",
    "import numpy as np\n",
    "import os\n",
    "from mip import Model, xsum, minimize, OptimizationStatus, BINARY\n",
    "import matplotlib.pyplot as plt\n",
    "\n",
    "SYNTH_DATA_PATH = '../data'     \n",
    "# OUT_SYNTH_DATA_PATH = '/kaggle/working'\n",
    "FORECAST_FILE = 'Biomass_History_Synthetic.csv'\n",
    "DISTANCE_FILE = 'Distance_Matrix_Synthetic.csv'\n",
    "\n",
    "d_matrix = pd.read_csv(os.path.join(SYNTH_DATA_PATH, DISTANCE_FILE), \n",
    "                       index_col=0)\n",
    "d_matrix = d_matrix.values"
   ]
  },
  {
   "cell_type": "code",
   "execution_count": 4,
   "id": "1d5b067c",
   "metadata": {
    "execution": {
     "iopub.execute_input": "2023-08-01T16:59:51.314082Z",
     "iopub.status.busy": "2023-08-01T16:59:51.313694Z",
     "iopub.status.idle": "2023-08-01T16:59:51.340617Z",
     "shell.execute_reply": "2023-08-01T16:59:51.339002Z"
    },
    "papermill": {
     "duration": 0.038264,
     "end_time": "2023-08-01T16:59:51.343354",
     "exception": false,
     "start_time": "2023-08-01T16:59:51.305090",
     "status": "completed"
    },
    "tags": []
   },
   "outputs": [
    {
     "name": "stdout",
     "output_type": "stream",
     "text": [
      "% distances over the selected max:  65.03448768917431\n"
     ]
    }
   ],
   "source": [
    "MAX_DISTANCE = 250          # Maximum considered distance between harvesting site and depot\n",
    "posible_locations = np.sum(d_matrix <= MAX_DISTANCE)\n",
    "print('% distances over the selected max: ', np.sum(d_matrix > MAX_DISTANCE) / (2418 * 2418) * 100)"
   ]
  },
  {
   "cell_type": "code",
   "execution_count": 5,
   "id": "c6fc6d3b",
   "metadata": {},
   "outputs": [
    {
     "data": {
      "text/plain": [
       "5846724"
      ]
     },
     "execution_count": 5,
     "metadata": {},
     "output_type": "execute_result"
    }
   ],
   "source": [
    "d_matrix.shape[0] ** 2"
   ]
  },
  {
   "cell_type": "code",
   "execution_count": 6,
   "id": "dd6035fc",
   "metadata": {},
   "outputs": [
    {
     "data": {
      "text/plain": [
       "array([[1, 2, 3],\n",
       "       [4, 5, 6],\n",
       "       [7, 5, 9]])"
      ]
     },
     "execution_count": 6,
     "metadata": {},
     "output_type": "execute_result"
    }
   ],
   "source": [
    "arr = np.array([[1,2,3],[4,5,6],[7,5,9]])\n",
    "arr"
   ]
  },
  {
   "cell_type": "code",
   "execution_count": 7,
   "id": "5a69e687",
   "metadata": {},
   "outputs": [
    {
     "data": {
      "text/plain": [
       "0.34965512310825686"
      ]
     },
     "execution_count": 7,
     "metadata": {},
     "output_type": "execute_result"
    }
   ],
   "source": [
    "np.where(d_matrix <= MAX_DISTANCE)[1].shape[0] / d_matrix.shape[0] ** 2"
   ]
  },
  {
   "cell_type": "code",
   "execution_count": 8,
   "id": "626a1228",
   "metadata": {},
   "outputs": [
    {
     "data": {
      "text/plain": [
       "916.1131"
      ]
     },
     "execution_count": 8,
     "metadata": {},
     "output_type": "execute_result"
    }
   ],
   "source": [
    "d_matrix.max()"
   ]
  },
  {
   "cell_type": "code",
   "execution_count": 10,
   "id": "e90dbd7e",
   "metadata": {},
   "outputs": [
    {
     "data": {
      "text/plain": [
       "5846724"
      ]
     },
     "execution_count": 10,
     "metadata": {},
     "output_type": "execute_result"
    }
   ],
   "source": [
    "2418 ** 2"
   ]
  },
  {
   "cell_type": "code",
   "execution_count": 9,
   "id": "04650805",
   "metadata": {},
   "outputs": [
    {
     "data": {
      "text/plain": [
       "(116932, 3)"
      ]
     },
     "execution_count": 9,
     "metadata": {},
     "output_type": "execute_result"
    }
   ],
   "source": [
    "MAX_DISTANCE = 20.\n",
    "idxs = np.where(d_matrix <= MAX_DISTANCE)\n",
    "df_arcs_ij = pd.DataFrame(idxs[1].reshape(-1,1), index=idxs[0]).reset_index()\n",
    "df_arcs_ij.columns = ['i', 'j']\n",
    "\n",
    "df_arcs_jk = df_arcs_ij.copy()\n",
    "df_arcs_jk.columns = ['j', 'k']\n",
    "\n",
    "df_arcs = pd.merge(df_arcs_ij['i'], df_arcs_jk, left_on='i', right_on='j').values\n",
    "df_arcs.shape"
   ]
  },
  {
   "cell_type": "code",
   "execution_count": 19,
   "id": "d25a2541",
   "metadata": {},
   "outputs": [
    {
     "data": {
      "text/plain": [
       "array([[   0,    0],\n",
       "       [   0,    1],\n",
       "       [   0,   15],\n",
       "       ...,\n",
       "       [2416, 2417],\n",
       "       [2417, 2416],\n",
       "       [2417, 2417]], dtype=int64)"
      ]
     },
     "execution_count": 19,
     "metadata": {},
     "output_type": "execute_result"
    }
   ],
   "source": [
    "df_arcs_ij.values"
   ]
  },
  {
   "cell_type": "code",
   "execution_count": 24,
   "id": "af76881e",
   "metadata": {},
   "outputs": [
    {
     "data": {
      "text/plain": [
       "array([[   0,    0,    0],\n",
       "       [   0,    0,    1],\n",
       "       [   0,    0,   15],\n",
       "       ...,\n",
       "       [2417, 2417, 2417],\n",
       "       [2417, 2417, 2416],\n",
       "       [2417, 2417, 2417]], dtype=int64)"
      ]
     },
     "execution_count": 24,
     "metadata": {},
     "output_type": "execute_result"
    }
   ],
   "source": [
    "df_arcs.values"
   ]
  },
  {
   "cell_type": "code",
   "execution_count": 22,
   "id": "aa5067cf",
   "metadata": {},
   "outputs": [
    {
     "data": {
      "text/plain": [
       "0"
      ]
     },
     "execution_count": 22,
     "metadata": {},
     "output_type": "execute_result"
    }
   ],
   "source": [
    "df_arcs_ij.duplicated().sum()"
   ]
  },
  {
   "cell_type": "code",
   "execution_count": null,
   "id": "cd264f95",
   "metadata": {},
   "outputs": [],
   "source": [
    "from itertools import product\n",
    "ls_arcs = list(product(ls_nodes, ls_nodes))"
   ]
  },
  {
   "cell_type": "code",
   "execution_count": null,
   "id": "5bf74c1d",
   "metadata": {},
   "outputs": [],
   "source": []
  },
  {
   "cell_type": "code",
   "execution_count": 4,
   "id": "5d223fce",
   "metadata": {
    "execution": {
     "iopub.execute_input": "2023-08-01T16:59:51.359114Z",
     "iopub.status.busy": "2023-08-01T16:59:51.358708Z",
     "iopub.status.idle": "2023-08-01T16:59:53.258958Z",
     "shell.execute_reply": "2023-08-01T16:59:53.257710Z"
    },
    "papermill": {
     "duration": 1.911599,
     "end_time": "2023-08-01T16:59:53.261842",
     "exception": false,
     "start_time": "2023-08-01T16:59:51.350243",
     "status": "completed"
    },
    "tags": []
   },
   "outputs": [
    {
     "name": "stdout",
     "output_type": "stream",
     "text": [
      "Forecasted biomass for year 2018:  1488.016473495\n",
      "Forecasted biomass for year 2019:  1766.976034022\n",
      "Variables b_2018 go from b_2018_0_0 to b_2018_29_29\n",
      "Variables b_2019 go from b_2019_0_0 to b_2019_29_29\n",
      "Variables p_2018 go from p_2018_0_0 to p_2018_29_29\n",
      "Variables p_2019 go from p_2019_0_0 to p_2019_29_29\n",
      "Variables x go from x_0 to x_29\n",
      "Variables r go from r_0 to r_29\n",
      "Adding constraints number 2\n",
      "Adding constraints number 3-4\n",
      "Adding constraints number 8\n",
      "Adding constraints number 5\n",
      "Adding constraints number 6\n",
      "Adding constraints number 7\n"
     ]
    }
   ],
   "source": [
    "N = 30#1000 #2418   # Use 30 for a small problem (optimal solution: to be computed)\n",
    "TRANSPORT_FACTOR_A = 0.001\n",
    "d_matrix_cost = TRANSPORT_FACTOR_A * d_matrix[:N, :N]\n",
    "\n",
    "df_fc = pd.read_csv(os.path.join(SYNTH_DATA_PATH, FORECAST_FILE))\n",
    "df_fc = df_fc.iloc[:N, :]\n",
    "\n",
    "ls_j = range(len(d_matrix_cost))  # Posible locations for depots and refineries\n",
    "year = 2018                       # Not sure if this is necessary\n",
    "cap_b_j = 20000                   # Maximum depot capacity\n",
    "cap_p_j = 100000                  # Maximum production capacity\n",
    "n_refineries = 5                  # Number of refineries\n",
    "n_depots = 25                     # Number of depots\n",
    "\n",
    "# Get the forecasted biomass for year 2018 of all the positions\n",
    "d_bio_18 = df_fc.loc[:, '2018']\n",
    "total_fc_18 = d_bio_18.sum()\n",
    "d_bio_18 = d_bio_18.to_dict()\n",
    "print(\"Forecasted biomass for year 2018: \", total_fc_18)\n",
    "\n",
    "\n",
    "d_bio_19 = df_fc.loc[:, '2019']\n",
    "total_fc_19 = d_bio_19.sum()\n",
    "d_bio_19 = d_bio_19.to_dict()\n",
    "print(\"Forecasted biomass for year 2019: \", total_fc_19)\n",
    "\n",
    "# Get the solution for the optimization problem\n",
    "m = Model(sense=minimize)\n",
    "m.threads = -1\n",
    "\n",
    "# Variables: biomass b_{i, 0}\n",
    "# 1. All values (forecasted biomass, biomass demand-supply, pellet demand-supply) must be\n",
    "# greater than or equal to zero.\n",
    "\n",
    "# Compute the distances that are less than the desired limit\n",
    "accepted_distances = []           # Accepted [i, j] pairs according to distance (i is source, j is destination)\n",
    "accepted_destin_dict = {}         # Dict of possible destinations for harvested sources (i is key, j are the values)\n",
    "accepted_source_dict = {}         # Dict of possible sources for depots destionations (j is key, i are the values)\n",
    "for i in range(len(d_matrix_cost)):\n",
    "    accepted_destin_dict[i] = []\n",
    "    accepted_source_dict[i] = []\n",
    "for i in range(len(d_matrix_cost)):\n",
    "    for j in range(len(d_matrix_cost)):\n",
    "        if d_matrix[i, j] <= MAX_DISTANCE:\n",
    "            accepted_distances.append((i, j))\n",
    "            accepted_destin_dict[i].append(j)\n",
    "            accepted_source_dict[j].append(i)\n",
    "\n",
    "b_18 = [m.add_var(name=f'b_2018_{i}_{j}', lb=0) for i, j in accepted_distances]\n",
    "print(f\"Variables b_2018 go from {b_18[0].name} to {b_18[-1].name}\")\n",
    "\n",
    "b_19 = [m.add_var(name=f'b_2019_{i}_{j}', lb=0) for i, j in accepted_distances]\n",
    "print(f\"Variables b_2019 go from {b_19[0].name} to {b_19[-1].name}\")\n",
    "\n",
    "p_18 = [m.add_var(name=f'p_2018_{i}_{j}', lb=0) for i in range(len(d_matrix_cost)) for j in ls_j]\n",
    "print(f\"Variables p_2018 go from {p_18[0].name} to {p_18[-1].name}\")\n",
    "\n",
    "p_19 = [m.add_var(name=f'p_2019_{i}_{j}', lb=0) for i in range(len(d_matrix_cost)) for j in ls_j]\n",
    "print(f\"Variables p_2019 go from {p_19[0].name} to {p_19[-1].name}\")\n",
    "\n",
    "x = [m.add_var(name=f'x_{j}', var_type=BINARY) for j in ls_j]\n",
    "print(f\"Variables x go from {x[0].name} to {x[-1].name}\")\n",
    "\n",
    "r = [m.add_var(name=f'r_{j}', var_type=BINARY) for j in ls_j]\n",
    "print(f\"Variables r go from {r[0].name} to {r[-1].name}\")\n",
    "\n",
    "# Constraints:\n",
    "# 2. The amount of biomass procured for processing from each harvesting site ′𝑖𝑖′ must be less than\n",
    "# or equal to that site’s forecasted biomass.\n",
    "print('Adding constraints number 2')\n",
    "for i in range(len(d_matrix_cost)):\n",
    "    m += xsum(m.var_by_name(f'b_2018_{i}_{j}') for j in accepted_destin_dict[i]) <= d_bio_18[i]\n",
    "    m += xsum(m.var_by_name(f'b_2019_{i}_{j}') for j in accepted_destin_dict[i]) <= d_bio_19[i]\n",
    "\n",
    "print('Adding constraints number 3-4')\n",
    "for j in ls_j:\n",
    "    # 3-4. Can't transport more than storage limit\n",
    "    m += xsum(m.var_by_name(f'b_2018_{i}_{j}') for i in accepted_source_dict[j]) <= cap_b_j * x[j]\n",
    "    m += xsum(m.var_by_name(f'b_2019_{i}_{j}') for i in accepted_source_dict[j]) <= cap_b_j * x[j]\n",
    "    m += xsum(m.var_by_name(f'p_2018_{i}_{j}') for i in ls_j) <= cap_p_j * r[j]\n",
    "    m += xsum(m.var_by_name(f'p_2019_{i}_{j}') for i in ls_j) <= cap_p_j * r[j]\n",
    "\n",
    "# 8. Total amount of biomass entering each preprocessing depot is equal to the total amount of\n",
    "# pellets exiting that depot (within tolerance limit of 1e-03)\n",
    "print('Adding constraints number 8')\n",
    "# We don't really know if two xsum is worst than a single xsum over all data\n",
    "for j in ls_j:\n",
    "    m += xsum(m.var_by_name(f'b_2018_{i}_{j}') for i in accepted_source_dict[j]) + xsum(-m.var_by_name(f'p_2018_{j}_{k}') for k in ls_j) <=\\\n",
    "          .001 * x[j]\n",
    "    m += xsum(-m.var_by_name(f'b_2018_{i}_{j}') for i in accepted_source_dict[j]) + xsum(m.var_by_name(f'p_2018_{j}_{k}') for k in ls_j) <=\\\n",
    "          .001 * x[j]\n",
    "    \n",
    "    m += xsum(m.var_by_name(f'b_2019_{i}_{j}') for i in accepted_source_dict[j]) + xsum(-m.var_by_name(f'p_2019_{j}_{k}') for k in ls_j) <=\\\n",
    "          .001 * x[j]\n",
    "    m += xsum(-m.var_by_name(f'b_2019_{i}_{j}') for i in accepted_source_dict[j]) + xsum(m.var_by_name(f'p_2019_{j}_{k}') for k in ls_j) <=\\\n",
    "          .001 * x[j]\n",
    "\n",
    "print('Adding constraints number 5')\n",
    "# 5. Number of depots should be less than or equal to 25.\n",
    "m += xsum(x[j] for j in ls_j) <= n_depots\n",
    "\n",
    "print('Adding constraints number 6')\n",
    "# 6. Number of refineries should be less than or equal to 5.\n",
    "m += xsum(r[j] for j in ls_j) <= n_refineries\n",
    "\n",
    "print('Adding constraints number 7')\n",
    "# 7. At least 80% of the total forecasted biomass must be processed by refineries each year\n",
    "m += xsum(m.var_by_name(f'p_2018_{i}_{j}') for i in ls_j for j in ls_j)\\\n",
    "    >= 0.8 * total_fc_18\n",
    "m += xsum(m.var_by_name(f'p_2019_{i}_{j}') for i in ls_j for j in ls_j)\\\n",
    "    >= 0.8 * total_fc_19\n",
    "\n",
    "m.objective = minimize(xsum(d_matrix_cost[i, j] * (m.var_by_name(f'b_2018_{i}_{j}') + m.var_by_name(f'b_2019_{i}_{j}')) \\\n",
    "                            for i in range(len(d_matrix_cost)) for j in accepted_destin_dict[i]) + \\\n",
    "                       xsum(d_matrix_cost[i, j] * (m.var_by_name(f'p_2018_{i}_{j}') + m.var_by_name(f'p_2019_{i}_{j}')) \\\n",
    "                            for i in ls_j for j in ls_j) + \\\n",
    "                       xsum(2*cap_b_j*x[j] + 2*cap_p_j*r[j] for j in ls_j) + \\\n",
    "                       xsum(-m.var_by_name(f'b_2018_{i}_{j}') - m.var_by_name(f'b_2019_{i}_{j}') \\\n",
    "                            for j in ls_j for i in accepted_source_dict[j]) + \\\n",
    "                       xsum(-m.var_by_name(f'p_2018_{i}_{j}') - m.var_by_name(f'p_2019_{i}_{j}') \\\n",
    "                            for i in ls_j for j in ls_j) \\\n",
    "                      )"
   ]
  },
  {
   "cell_type": "code",
   "execution_count": 5,
   "id": "107321c9",
   "metadata": {
    "execution": {
     "iopub.execute_input": "2023-08-01T16:59:53.278149Z",
     "iopub.status.busy": "2023-08-01T16:59:53.277683Z",
     "iopub.status.idle": "2023-08-01T16:59:53.284415Z",
     "shell.execute_reply": "2023-08-01T16:59:53.283372Z"
    },
    "papermill": {
     "duration": 0.018183,
     "end_time": "2023-08-01T16:59:53.287382",
     "exception": false,
     "start_time": "2023-08-01T16:59:53.269199",
     "status": "completed"
    },
    "tags": []
   },
   "outputs": [
    {
     "name": "stdout",
     "output_type": "stream",
     "text": [
      "Number of constraints:  304\n",
      "Number of variables:  3660\n",
      "Number of integer variables:  60\n",
      "Number of non-zeros in constraint matrix:  14700\n"
     ]
    }
   ],
   "source": [
    "print('Number of constraints: ', m.num_rows)                  # number of rows (constraints) in the model\n",
    "print('Number of variables: ', m.num_cols)                    # number of columns (variables) in the model\n",
    "print('Number of integer variables: ', m.num_int)             # number of integer variables in the model\n",
    "print('Number of non-zeros in constraint matrix: ', m.num_nz) # number of non-zeros in the constraint matrix"
   ]
  },
  {
   "cell_type": "markdown",
   "id": "24fd3547",
   "metadata": {
    "papermill": {
     "duration": 0.00682,
     "end_time": "2023-08-01T16:59:53.301614",
     "exception": false,
     "start_time": "2023-08-01T16:59:53.294794",
     "status": "completed"
    },
    "tags": []
   },
   "source": [
    "Some information about the problem reduction:\n",
    "Results for the full 2418 locations problem (no model size reduction):\n",
    "- Number of constraints:  24,184\n",
    "- Number of variables:  23,391,732\n",
    "- Number of integer variables:  4,836\n",
    "- Number of non-zeros in constraint matrix:  93,571,764\n",
    "\n",
    "Results for the full 2418 locations problem (with model size reduction MAX_DISTANCE=250):\n",
    "- Number of constraints:  24184\n",
    "- Number of variables:  15,786,958\n",
    "- Number of integer variables:  4,836\n",
    "- Number of non-zeros in constraint matrix:  63,152,668\n",
    "\n",
    "Results for 50 locations problem (no model size reduction):\n",
    "- Number of constraints:  504\n",
    "- Number of variables:  10,100\n",
    "- Number of integer variables:  100\n",
    "- Number of non-zeros in constraint matrix:  40,500\n",
    "\n",
    "Results for 50 locations problem (with model size reduction MAX_DISTANCE=250). Note that the problem size is the same as all the locations are within range:\n",
    "- Number of constraints:  504\n",
    "- Number of variables:  10,100\n",
    "- Number of integer variables:  100\n",
    "- Number of non-zeros in constraint matrix:  40,500\n",
    "\n",
    "Results for 750 locations problem (no model size reduction), this problem can be solved in reasonable time (18 minutes):\n",
    "- Number of constraints:  7,504\n",
    "- Number of variables:  2,251,500\n",
    "- Number of integer variables:  1,500\n",
    "- Number of non-zeros in constraint matrix:  9,007,500\n",
    "\n",
    "Results for 750 locations problem (with model size reduction MAX_DISTANCE=250):\n",
    "- Number of constraints:  7,504\n",
    "- Number of variables:  1,840,222\n",
    "- Number of integer variables:  1,500\n",
    "- Number of non-zeros in constraint matrix:  7,362,388\n",
    "\n",
    "Results for 1000 locations problem (no model size reduction):\n",
    "- Number of constraints:  10,004\n",
    "- Number of variables:  4,002,000\n",
    "- Number of integer variables:  2,000\n",
    "- Number of non-zeros in constraint matrix:  16,010,000\n",
    "\n",
    "Results for 1000 locations problem (with model size reduction MAX_DISTANCE=250):\n",
    "- Number of constraints:  10,004\n",
    "- Number of variables:  3,155,932\n",
    "- Number of integer variables:  2,000\n",
    "- Number of non-zeros in constraint matrix:  12,625,728\n"
   ]
  },
  {
   "cell_type": "code",
   "execution_count": 6,
   "id": "4662b911",
   "metadata": {
    "execution": {
     "iopub.execute_input": "2023-08-01T16:59:53.318031Z",
     "iopub.status.busy": "2023-08-01T16:59:53.317067Z",
     "iopub.status.idle": "2023-08-01T17:04:03.163306Z",
     "shell.execute_reply": "2023-08-01T17:04:03.161971Z"
    },
    "papermill": {
     "duration": 249.857328,
     "end_time": "2023-08-01T17:04:03.165916",
     "exception": false,
     "start_time": "2023-08-01T16:59:53.308588",
     "status": "completed"
    },
    "tags": []
   },
   "outputs": [
    {
     "name": "stdout",
     "output_type": "stream",
     "text": [
      "Solve\n",
      "Welcome to the CBC MILP Solver \n",
      "Version: Trunk\n",
      "Build Date: Oct 24 2021 \n",
      "\n",
      "Starting solution of the Linear programming relaxation problem using Dual Simplex\n",
      "\n",
      "Coin0506I Presolve 304 (0) rows, 3660 (0) columns and 14700 (0) elements\n",
      "Clp0014I Perturbing problem by 0.001% of 20916.457 - largest nonzero change 0.018922632 ( 0.17406027%) - largest zero change 0\n",
      "Clp0000I Optimal - objective value -0.00019404254\n",
      "Clp0032I Optimal objective -0.0001940425357 - 379 iterations time 0.012\n",
      "Clp1000I Unscaled problem has primal infeasibilities\n",
      "\n",
      "Starting MIP optimization\n",
      "Cgl0004I processed model has 304 rows, 3660 columns (60 integer (60 of which binary)) and 14700 elements\n",
      "Coin3009W Conflict graph built in 0.001 seconds, density: 0.000%\n",
      "Cgl0015I Clique Strengthening extended 0 cliques, 0 were dominated\n",
      "Cbc0045I Nauty did not find any useful orbits in time 0.109842\n",
      "Cbc0038I Initial state - 48 integers unsatisfied sum - 0.826666\n",
      "Cbc0038I Pass   1: suminf.    0.22667 (2) obj. 32238.2 iterations 205\n",
      "Cbc0038I Pass   2: suminf.    0.02667 (1) obj. 40238.2 iterations 1\n",
      "Cbc0038I Solution found of 234905\n",
      "Cbc0038I Relaxing continuous gives 233621\n",
      "Cbc0038I Before mini branch and bound, 12 integers at bound fixed and 3457 continuous\n",
      "Cbc0038I Mini branch and bound did not improve solution (0.19 seconds)\n",
      "Cbc0038I Round again with cutoff of 213472\n",
      "Cbc0038I Pass   3: suminf.    0.22667 (2) obj. 32238.2 iterations 0\n",
      "Cbc0038I Pass   4: suminf.    0.02667 (1) obj. 40238.2 iterations 1\n",
      "Cbc0038I Pass   5: suminf.    0.10075 (1) obj. 213472 iterations 123\n",
      "Cbc0038I Pass   6: suminf.    0.09895 (1) obj. 213472 iterations 161\n",
      "Cbc0038I Pass   7: suminf.    0.02667 (2) obj. 200188 iterations 84\n",
      "Cbc0038I Pass   8: suminf.    0.09953 (2) obj. 213472 iterations 112\n",
      "Cbc0038I Pass   9: suminf.    0.36329 (4) obj. 213472 iterations 377\n",
      "Cbc0038I Pass  10: suminf.    0.02667 (3) obj. 200282 iterations 103\n",
      "Cbc0038I Pass  11: suminf.    0.09920 (2) obj. 213472 iterations 143\n",
      "Cbc0038I Pass  12: suminf.    0.36326 (6) obj. 213472 iterations 225\n",
      "Cbc0038I Pass  13: suminf.    0.02667 (3) obj. 200219 iterations 103\n",
      "Cbc0038I Pass  14: suminf.    0.09923 (3) obj. 213472 iterations 71\n",
      "Cbc0038I Pass  15: suminf.    0.36199 (3) obj. 213472 iterations 265\n",
      "Cbc0038I Pass  16: suminf.    0.02667 (2) obj. 200315 iterations 75\n",
      "Cbc0038I Pass  17: suminf.    0.09906 (2) obj. 213472 iterations 105\n",
      "Cbc0038I Pass  18: suminf.    0.36303 (4) obj. 213472 iterations 293\n",
      "Cbc0038I Pass  19: suminf.    0.02667 (3) obj. 200204 iterations 81\n",
      "Cbc0038I Pass  20: suminf.    0.09933 (3) obj. 213472 iterations 125\n",
      "Cbc0038I Pass  21: suminf.    0.36321 (4) obj. 213472 iterations 212\n",
      "Cbc0038I Pass  22: suminf.    0.02667 (3) obj. 200327 iterations 107\n",
      "Cbc0038I Pass  23: suminf.    0.09909 (2) obj. 213472 iterations 134\n",
      "Cbc0038I Pass  24: suminf.    0.36161 (2) obj. 213472 iterations 227\n",
      "Cbc0038I Pass  25: suminf.    0.02667 (1) obj. 200366 iterations 74\n",
      "Cbc0038I Pass  26: suminf.    0.09881 (1) obj. 213472 iterations 139\n",
      "Cbc0038I Pass  27: suminf.    0.36423 (5) obj. 213472 iterations 287\n",
      "Cbc0038I Pass  28: suminf.    0.02667 (4) obj. 200306 iterations 93\n",
      "Cbc0038I Pass  29: suminf.    0.09896 (2) obj. 213472 iterations 102\n",
      "Cbc0038I Pass  30: suminf.    0.36183 (3) obj. 213472 iterations 355\n",
      "Cbc0038I Pass  31: suminf.    0.02667 (2) obj. 200445 iterations 100\n",
      "Cbc0038I Pass  32: suminf.    0.09839 (2) obj. 213472 iterations 74\n",
      "Cbc0038I No solution found this major pass\n",
      "Cbc0038I Before mini branch and bound, 6 integers at bound fixed and 2981 continuous\n",
      "Cbc0038I Full problem 304 rows 3660 columns, reduced to 277 rows 673 columns\n",
      "Cbc0038I Mini branch and bound did not improve solution (1.71 seconds)\n",
      "Cbc0038I After 1.71 seconds - Feasibility pump exiting with objective of 233621 - took 1.53 seconds\n",
      "Cbc0012I Integer solution of 233621.19 found by feasibility pump after 0 iterations and 0 nodes (1.72 seconds)\n",
      "Cbc0038I Full problem 304 rows 3660 columns, reduced to 251 rows 2542 columns - 2 fixed gives 247, 2540 - still too large\n",
      "Cbc0038I Full problem 304 rows 3660 columns, reduced to 247 rows 2540 columns - too large\n",
      "Cbc0031I 639 added rows had average density of 27.596244\n",
      "Cbc0013I At root node, 639 cuts changed objective from 32125.326 to 67054.594 in 100 passes\n",
      "Cbc0014I Cut generator 0 (Probing) - 6719 row cuts average 2.0 elements, 0 column cuts (152 active)  in 0.128 seconds - new frequency is 1\n",
      "Cbc0014I Cut generator 1 (Gomory) - 26 row cuts average 4.2 elements, 0 column cuts (0 active)  in 0.235 seconds - new frequency is -100\n",
      "Cbc0014I Cut generator 2 (Knapsack) - 0 row cuts average 0.0 elements, 0 column cuts (0 active)  in 0.053 seconds - new frequency is -100\n",
      "Cbc0014I Cut generator 3 (Clique) - 0 row cuts average 0.0 elements, 0 column cuts (0 active)  in 0.004 seconds - new frequency is -100\n",
      "Cbc0014I Cut generator 4 (OddWheel) - 0 row cuts average 0.0 elements, 0 column cuts (0 active)  in 0.005 seconds - new frequency is -100\n",
      "Cbc0014I Cut generator 5 (MixedIntegerRounding2) - 3290 row cuts average 302.0 elements, 0 column cuts (0 active)  in 0.745 seconds - new frequency is 1\n",
      "Cbc0014I Cut generator 6 (FlowCover) - 1 row cuts average 2.0 elements, 0 column cuts (0 active)  in 1.595 seconds - new frequency is -100\n",
      "Cbc0014I Cut generator 7 (TwoMirCuts) - 834 row cuts average 3.2 elements, 0 column cuts (0 active)  in 0.071 seconds - new frequency is 1\n",
      "Cbc0010I After 0 nodes, 1 on tree, 233621.19 best solution, best possible 67054.594 (40.72 seconds)\n",
      "Cbc0010I After 1 nodes, 2 on tree, 233621.19 best solution, best possible 67054.594 (42.64 seconds)\n",
      "Cbc0010I After 3 nodes, 1 on tree, 233621.19 best solution, best possible 67054.594 (44.02 seconds)\n",
      "Cbc0010I After 9 nodes, 4 on tree, 233621.19 best solution, best possible 67054.594 (44.85 seconds)\n",
      "Cbc0010I After 20 nodes, 3 on tree, 233621.19 best solution, best possible 67145.894 (45.68 seconds)\n",
      "Cbc0010I After 36 nodes, 7 on tree, 233621.19 best solution, best possible 67155.74 (46.38 seconds)\n",
      "Cbc0010I After 54 nodes, 5 on tree, 233621.19 best solution, best possible 67155.74 (47.17 seconds)\n",
      "Cbc0010I After 74 nodes, 5 on tree, 233621.19 best solution, best possible 67155.74 (47.88 seconds)\n",
      "Cbc0010I After 95 nodes, 3 on tree, 233621.19 best solution, best possible 71297.361 (48.88 seconds)\n",
      "Cbc0012I Integer solution of 233607.49 found by heuristic after 159366 iterations and 95 nodes (48.93 seconds)\n",
      "Cbc0010I After 99 nodes, 6 on tree, 233607.49 best solution, best possible 71297.361 (49.69 seconds)\n",
      "Cbc0010I After 109 nodes, 9 on tree, 233607.49 best solution, best possible 73024.838 (50.46 seconds)\n",
      "Cbc0010I After 126 nodes, 12 on tree, 233607.49 best solution, best possible 73024.838 (51.16 seconds)\n",
      "Cbc0010I After 142 nodes, 7 on tree, 233607.49 best solution, best possible 73024.838 (51.90 seconds)\n",
      "Cbc0010I After 154 nodes, 7 on tree, 233607.49 best solution, best possible 73024.838 (52.62 seconds)\n",
      "Cbc0010I After 163 nodes, 9 on tree, 233607.49 best solution, best possible 73024.838 (53.36 seconds)\n",
      "Cbc0010I After 180 nodes, 10 on tree, 233607.49 best solution, best possible 73024.838 (54.12 seconds)\n",
      "Cbc0010I After 198 nodes, 9 on tree, 233607.49 best solution, best possible 73024.838 (54.82 seconds)\n",
      "Cbc0010I After 207 nodes, 11 on tree, 233607.49 best solution, best possible 73024.838 (55.54 seconds)\n",
      "Cbc0010I After 211 nodes, 13 on tree, 233607.49 best solution, best possible 73024.838 (56.41 seconds)\n",
      "Cbc0010I After 216 nodes, 12 on tree, 233607.49 best solution, best possible 73024.838 (57.13 seconds)\n",
      "Cbc0010I After 221 nodes, 13 on tree, 233607.49 best solution, best possible 73064.039 (57.90 seconds)\n",
      "Cbc0010I After 227 nodes, 15 on tree, 233607.49 best solution, best possible 75923.822 (58.70 seconds)\n",
      "Cbc0010I After 236 nodes, 16 on tree, 233607.49 best solution, best possible 75923.822 (59.44 seconds)\n",
      "Cbc0010I After 247 nodes, 19 on tree, 233607.49 best solution, best possible 75923.822 (60.33 seconds)\n",
      "Cbc0010I After 257 nodes, 22 on tree, 233607.49 best solution, best possible 79897.556 (61.07 seconds)\n",
      "Cbc0010I After 266 nodes, 21 on tree, 233607.49 best solution, best possible 79897.556 (61.89 seconds)\n",
      "Cbc0010I After 278 nodes, 20 on tree, 233607.49 best solution, best possible 79999.968 (62.62 seconds)\n",
      "Cbc0010I After 303 nodes, 20 on tree, 233607.49 best solution, best possible 88059.997 (63.37 seconds)\n",
      "Cbc0010I After 339 nodes, 21 on tree, 233607.49 best solution, best possible 88059.997 (64.10 seconds)\n",
      "Cbc0010I After 380 nodes, 20 on tree, 233607.49 best solution, best possible 93771.153 (64.80 seconds)\n",
      "Cbc0010I After 407 nodes, 22 on tree, 233607.49 best solution, best possible 93771.153 (65.50 seconds)\n",
      "Cbc0010I After 444 nodes, 29 on tree, 233607.49 best solution, best possible 93771.153 (66.23 seconds)\n",
      "Cbc0010I After 476 nodes, 19 on tree, 233607.49 best solution, best possible 93771.153 (66.96 seconds)\n",
      "Cbc0010I After 511 nodes, 15 on tree, 233607.49 best solution, best possible 93771.153 (67.69 seconds)\n",
      "Cbc0010I After 519 nodes, 14 on tree, 233607.49 best solution, best possible 93771.153 (68.51 seconds)\n",
      "Cbc0010I After 525 nodes, 14 on tree, 233607.49 best solution, best possible 93771.153 (69.30 seconds)\n",
      "Cbc0010I After 531 nodes, 17 on tree, 233607.49 best solution, best possible 97391.02 (70.14 seconds)\n",
      "Cbc0010I After 535 nodes, 20 on tree, 233607.49 best solution, best possible 99166.853 (70.97 seconds)\n",
      "Cbc0010I After 544 nodes, 24 on tree, 233607.49 best solution, best possible 103709.02 (71.72 seconds)\n",
      "Cbc0010I After 551 nodes, 25 on tree, 233607.49 best solution, best possible 103709.02 (72.42 seconds)\n",
      "Cbc0010I After 575 nodes, 23 on tree, 233607.49 best solution, best possible 106096.03 (73.14 seconds)\n",
      "Cbc0010I After 590 nodes, 27 on tree, 233607.49 best solution, best possible 106096.03 (73.86 seconds)\n",
      "Cbc0010I After 613 nodes, 28 on tree, 233607.49 best solution, best possible 106096.03 (74.67 seconds)\n",
      "Cbc0010I After 636 nodes, 29 on tree, 233607.49 best solution, best possible 106096.03 (75.39 seconds)\n",
      "Cbc0010I After 656 nodes, 28 on tree, 233607.49 best solution, best possible 106096.03 (76.24 seconds)\n",
      "Cbc0010I After 663 nodes, 30 on tree, 233607.49 best solution, best possible 106096.03 (77.00 seconds)\n",
      "Cbc0010I After 676 nodes, 30 on tree, 233607.49 best solution, best possible 106096.03 (77.75 seconds)\n",
      "Cbc0010I After 692 nodes, 33 on tree, 233607.49 best solution, best possible 106096.03 (78.50 seconds)\n",
      "Cbc0010I After 698 nodes, 35 on tree, 233607.49 best solution, best possible 106096.03 (79.25 seconds)\n",
      "Cbc0010I After 715 nodes, 37 on tree, 233607.49 best solution, best possible 106096.03 (79.97 seconds)\n",
      "Cbc0010I After 728 nodes, 37 on tree, 233607.49 best solution, best possible 106096.03 (80.72 seconds)\n",
      "Cbc0010I After 751 nodes, 40 on tree, 233607.49 best solution, best possible 106096.03 (81.42 seconds)\n",
      "Cbc0010I After 788 nodes, 39 on tree, 233607.49 best solution, best possible 106096.03 (82.13 seconds)\n",
      "Cbc0010I After 826 nodes, 37 on tree, 233607.49 best solution, best possible 106096.03 (82.85 seconds)\n",
      "Cbc0010I After 874 nodes, 39 on tree, 233607.49 best solution, best possible 106096.03 (83.57 seconds)\n",
      "Cbc0010I After 906 nodes, 32 on tree, 233607.49 best solution, best possible 106096.03 (84.39 seconds)\n",
      "Cbc0010I After 929 nodes, 33 on tree, 233607.49 best solution, best possible 106096.03 (85.09 seconds)\n",
      "Cbc0010I After 947 nodes, 36 on tree, 233607.49 best solution, best possible 106096.03 (85.81 seconds)\n",
      "Cbc0010I After 981 nodes, 32 on tree, 233607.49 best solution, best possible 106096.03 (86.56 seconds)\n",
      "Cbc0010I After 992 nodes, 30 on tree, 233607.49 best solution, best possible 106096.03 (87.43 seconds)\n",
      "Cbc0010I After 995 nodes, 31 on tree, 233607.49 best solution, best possible 106096.03 (88.13 seconds)\n",
      "Cbc0010I After 1003 nodes, 33 on tree, 233607.49 best solution, best possible 106096.03 (88.90 seconds)\n",
      "Cbc0010I After 1020 nodes, 37 on tree, 233607.49 best solution, best possible 106096.03 (89.63 seconds)\n",
      "Cbc0010I After 1061 nodes, 34 on tree, 233607.49 best solution, best possible 106096.03 (90.41 seconds)\n",
      "Cbc0010I After 1108 nodes, 35 on tree, 233607.49 best solution, best possible 106096.03 (91.16 seconds)\n",
      "Cbc0010I After 1145 nodes, 37 on tree, 233607.49 best solution, best possible 106096.03 (91.91 seconds)\n",
      "Cbc0010I After 1167 nodes, 33 on tree, 233607.49 best solution, best possible 106096.03 (92.61 seconds)\n",
      "Cbc0010I After 1198 nodes, 29 on tree, 233607.49 best solution, best possible 106096.03 (93.52 seconds)\n",
      "Cbc0010I After 1210 nodes, 29 on tree, 233607.49 best solution, best possible 106096.03 (94.24 seconds)\n",
      "Cbc0010I After 1214 nodes, 33 on tree, 233607.49 best solution, best possible 106096.03 (95.02 seconds)\n",
      "Cbc0010I After 1217 nodes, 34 on tree, 233607.49 best solution, best possible 106096.03 (95.72 seconds)\n",
      "Cbc0010I After 1228 nodes, 37 on tree, 233607.49 best solution, best possible 106096.03 (96.45 seconds)\n",
      "Cbc0010I After 1238 nodes, 38 on tree, 233607.49 best solution, best possible 106096.03 (97.16 seconds)\n",
      "Cbc0010I After 1249 nodes, 38 on tree, 233607.49 best solution, best possible 106096.03 (97.88 seconds)\n",
      "Cbc0010I After 1266 nodes, 39 on tree, 233607.49 best solution, best possible 106096.03 (98.60 seconds)\n",
      "Cbc0010I After 1288 nodes, 36 on tree, 233607.49 best solution, best possible 106096.03 (99.33 seconds)\n",
      "Cbc0010I After 1310 nodes, 33 on tree, 233607.49 best solution, best possible 106096.03 (100.05 seconds)\n",
      "Cbc0010I After 1322 nodes, 34 on tree, 233607.49 best solution, best possible 106096.03 (100.88 seconds)\n",
      "Cbc0010I After 1336 nodes, 32 on tree, 233607.49 best solution, best possible 106096.03 (101.60 seconds)\n",
      "Cbc0010I After 1349 nodes, 30 on tree, 233607.49 best solution, best possible 106096.03 (102.33 seconds)\n",
      "Cbc0010I After 1363 nodes, 29 on tree, 233607.49 best solution, best possible 106096.03 (103.06 seconds)\n",
      "Cbc0010I After 1372 nodes, 32 on tree, 233607.49 best solution, best possible 106096.03 (103.94 seconds)\n",
      "Cbc0010I After 1381 nodes, 36 on tree, 233607.49 best solution, best possible 106096.03 (104.65 seconds)\n",
      "Cbc0010I After 1386 nodes, 36 on tree, 233607.49 best solution, best possible 106096.03 (105.36 seconds)\n",
      "Cbc0010I After 1402 nodes, 35 on tree, 233607.49 best solution, best possible 106096.03 (106.26 seconds)\n",
      "Cbc0010I After 1411 nodes, 39 on tree, 233607.49 best solution, best possible 106096.03 (107.06 seconds)\n",
      "Cbc0010I After 1417 nodes, 35 on tree, 233607.49 best solution, best possible 106096.03 (107.78 seconds)\n",
      "Cbc0010I After 1422 nodes, 35 on tree, 233607.49 best solution, best possible 106096.03 (108.60 seconds)\n",
      "Cbc0010I After 1425 nodes, 36 on tree, 233607.49 best solution, best possible 106096.03 (109.35 seconds)\n",
      "Cbc0010I After 1433 nodes, 34 on tree, 233607.49 best solution, best possible 106096.03 (110.09 seconds)\n",
      "Cbc0010I After 1439 nodes, 38 on tree, 233607.49 best solution, best possible 106096.03 (110.93 seconds)\n",
      "Cbc0010I After 1452 nodes, 37 on tree, 233607.49 best solution, best possible 106096.03 (111.70 seconds)\n",
      "Cbc0010I After 1467 nodes, 38 on tree, 233607.49 best solution, best possible 106096.03 (112.57 seconds)\n",
      "Cbc0010I After 1478 nodes, 40 on tree, 233607.49 best solution, best possible 106096.03 (113.30 seconds)\n",
      "Cbc0010I After 1493 nodes, 35 on tree, 233607.49 best solution, best possible 106096.03 (114.05 seconds)\n",
      "Cbc0010I After 1504 nodes, 35 on tree, 233607.49 best solution, best possible 106096.03 (114.79 seconds)\n",
      "Cbc0010I After 1513 nodes, 34 on tree, 233607.49 best solution, best possible 106096.03 (115.55 seconds)\n",
      "Cbc0010I After 1521 nodes, 39 on tree, 233607.49 best solution, best possible 106096.03 (116.38 seconds)\n",
      "Cbc0010I After 1532 nodes, 38 on tree, 233607.49 best solution, best possible 106096.03 (117.10 seconds)\n",
      "Cbc0010I After 1541 nodes, 39 on tree, 233607.49 best solution, best possible 106096.03 (117.85 seconds)\n",
      "Cbc0010I After 1550 nodes, 43 on tree, 233607.49 best solution, best possible 106096.03 (118.88 seconds)\n",
      "Cbc0010I After 1559 nodes, 43 on tree, 233607.49 best solution, best possible 106096.03 (119.69 seconds)\n",
      "Cbc0010I After 1568 nodes, 42 on tree, 233607.49 best solution, best possible 106096.03 (120.51 seconds)\n",
      "Cbc0010I After 1583 nodes, 45 on tree, 233607.49 best solution, best possible 106096.03 (121.22 seconds)\n",
      "Cbc0010I After 1600 nodes, 42 on tree, 233607.49 best solution, best possible 106096.03 (121.97 seconds)\n",
      "Cbc0010I After 1606 nodes, 46 on tree, 233607.49 best solution, best possible 106096.03 (122.80 seconds)\n",
      "Cbc0010I After 1610 nodes, 46 on tree, 233607.49 best solution, best possible 106096.03 (123.58 seconds)\n",
      "Cbc0010I After 1615 nodes, 46 on tree, 233607.49 best solution, best possible 106096.03 (124.74 seconds)\n",
      "Cbc0010I After 1618 nodes, 48 on tree, 233607.49 best solution, best possible 106096.03 (125.47 seconds)\n",
      "Cbc0010I After 1623 nodes, 49 on tree, 233607.49 best solution, best possible 106096.03 (126.27 seconds)\n",
      "Cbc0010I After 1629 nodes, 52 on tree, 233607.49 best solution, best possible 106096.03 (127.00 seconds)\n",
      "Cbc0010I After 1640 nodes, 54 on tree, 233607.49 best solution, best possible 106096.03 (127.87 seconds)\n",
      "Cbc0010I After 1656 nodes, 51 on tree, 233607.49 best solution, best possible 106096.03 (128.58 seconds)\n",
      "Cbc0010I After 1667 nodes, 53 on tree, 233607.49 best solution, best possible 106096.03 (129.30 seconds)\n",
      "Cbc0010I After 1681 nodes, 47 on tree, 233607.49 best solution, best possible 106096.03 (130.10 seconds)\n",
      "Cbc0010I After 1692 nodes, 47 on tree, 233607.49 best solution, best possible 106096.03 (130.83 seconds)\n",
      "Cbc0010I After 1703 nodes, 48 on tree, 233607.49 best solution, best possible 106096.03 (131.56 seconds)\n",
      "Cbc0010I After 1713 nodes, 52 on tree, 233607.49 best solution, best possible 106096.03 (132.32 seconds)\n",
      "Cbc0010I After 1729 nodes, 47 on tree, 233607.49 best solution, best possible 106096.03 (133.05 seconds)\n",
      "Cbc0010I After 1743 nodes, 46 on tree, 233607.49 best solution, best possible 106096.03 (133.75 seconds)\n",
      "Cbc0010I After 1752 nodes, 47 on tree, 233607.49 best solution, best possible 106096.03 (134.46 seconds)\n",
      "Cbc0010I After 1762 nodes, 47 on tree, 233607.49 best solution, best possible 106096.03 (135.16 seconds)\n",
      "Cbc0010I After 1776 nodes, 47 on tree, 233607.49 best solution, best possible 106096.03 (135.88 seconds)\n",
      "Cbc0010I After 1789 nodes, 46 on tree, 233607.49 best solution, best possible 106096.03 (136.66 seconds)\n",
      "Cbc0010I After 1800 nodes, 46 on tree, 233607.49 best solution, best possible 106096.03 (137.59 seconds)\n",
      "Cbc0010I After 1805 nodes, 47 on tree, 233607.49 best solution, best possible 106096.03 (138.32 seconds)\n",
      "Cbc0010I After 1814 nodes, 51 on tree, 233607.49 best solution, best possible 106096.03 (139.11 seconds)\n",
      "Cbc0010I After 1825 nodes, 55 on tree, 233607.49 best solution, best possible 106096.03 (139.91 seconds)\n",
      "Cbc0010I After 1844 nodes, 50 on tree, 233607.49 best solution, best possible 106096.03 (140.62 seconds)\n",
      "Cbc0010I After 1856 nodes, 55 on tree, 233607.49 best solution, best possible 106096.03 (141.36 seconds)\n",
      "Cbc0010I After 1875 nodes, 52 on tree, 233607.49 best solution, best possible 106096.03 (142.13 seconds)\n",
      "Cbc0010I After 1886 nodes, 55 on tree, 233607.49 best solution, best possible 106096.03 (142.83 seconds)\n",
      "Cbc0010I After 1897 nodes, 56 on tree, 233607.49 best solution, best possible 106096.03 (143.54 seconds)\n",
      "Cbc0010I After 1917 nodes, 53 on tree, 233607.49 best solution, best possible 106096.03 (144.24 seconds)\n",
      "Cbc0010I After 1926 nodes, 51 on tree, 233607.49 best solution, best possible 106096.03 (144.97 seconds)\n",
      "Cbc0010I After 1941 nodes, 51 on tree, 233607.49 best solution, best possible 106096.03 (145.74 seconds)\n",
      "Cbc0010I After 1958 nodes, 46 on tree, 233607.49 best solution, best possible 106096.03 (146.44 seconds)\n",
      "Cbc0010I After 1966 nodes, 49 on tree, 233607.49 best solution, best possible 106096.03 (147.14 seconds)\n",
      "Cbc0010I After 1987 nodes, 48 on tree, 233607.49 best solution, best possible 106096.03 (147.97 seconds)\n",
      "Cbc0010I After 2001 nodes, 48 on tree, 233607.49 best solution, best possible 106096.03 (148.68 seconds)\n",
      "Cbc0010I After 2013 nodes, 50 on tree, 233607.49 best solution, best possible 106096.03 (149.43 seconds)\n",
      "Cbc0010I After 2025 nodes, 51 on tree, 233607.49 best solution, best possible 106096.03 (150.22 seconds)\n",
      "Cbc0010I After 2039 nodes, 47 on tree, 233607.49 best solution, best possible 106096.03 (150.95 seconds)\n",
      "Cbc0010I After 2052 nodes, 49 on tree, 233607.49 best solution, best possible 106096.03 (151.67 seconds)\n",
      "Cbc0010I After 2075 nodes, 44 on tree, 233607.49 best solution, best possible 106096.03 (152.51 seconds)\n",
      "Cbc0010I After 2084 nodes, 44 on tree, 233607.49 best solution, best possible 106096.03 (153.22 seconds)\n",
      "Cbc0010I After 2090 nodes, 47 on tree, 233607.49 best solution, best possible 106096.03 (153.99 seconds)\n",
      "Cbc0010I After 2100 nodes, 48 on tree, 233607.49 best solution, best possible 106096.03 (154.82 seconds)\n",
      "Cbc0010I After 2116 nodes, 48 on tree, 233607.49 best solution, best possible 106096.03 (155.57 seconds)\n",
      "Cbc0010I After 2131 nodes, 46 on tree, 233607.49 best solution, best possible 106096.03 (156.47 seconds)\n",
      "Cbc0010I After 2139 nodes, 50 on tree, 233607.49 best solution, best possible 106096.03 (157.17 seconds)\n",
      "Cbc0010I After 2149 nodes, 50 on tree, 233607.49 best solution, best possible 106096.03 (157.88 seconds)\n",
      "Cbc0010I After 2163 nodes, 46 on tree, 233607.49 best solution, best possible 106096.03 (158.61 seconds)\n",
      "Cbc0010I After 2171 nodes, 47 on tree, 233607.49 best solution, best possible 106096.03 (159.44 seconds)\n",
      "Cbc0010I After 2185 nodes, 47 on tree, 233607.49 best solution, best possible 106096.03 (160.15 seconds)\n",
      "Cbc0010I After 2206 nodes, 42 on tree, 233607.49 best solution, best possible 106096.03 (160.86 seconds)\n",
      "Cbc0010I After 2220 nodes, 44 on tree, 233607.49 best solution, best possible 106096.03 (161.58 seconds)\n",
      "Cbc0010I After 2235 nodes, 40 on tree, 233607.49 best solution, best possible 106096.03 (162.30 seconds)\n",
      "Cbc0010I After 2243 nodes, 42 on tree, 233607.49 best solution, best possible 106096.03 (163.09 seconds)\n",
      "Cbc0010I After 2254 nodes, 47 on tree, 233607.49 best solution, best possible 106096.03 (163.79 seconds)\n",
      "Cbc0010I After 2271 nodes, 43 on tree, 233607.49 best solution, best possible 106096.03 (164.56 seconds)\n",
      "Cbc0010I After 2285 nodes, 45 on tree, 233607.49 best solution, best possible 106096.03 (165.37 seconds)\n",
      "Cbc0010I After 2297 nodes, 46 on tree, 233607.49 best solution, best possible 106096.03 (166.14 seconds)\n",
      "Cbc0010I After 2311 nodes, 44 on tree, 233607.49 best solution, best possible 106096.03 (166.89 seconds)\n",
      "Cbc0010I After 2324 nodes, 42 on tree, 233607.49 best solution, best possible 106096.03 (167.69 seconds)\n",
      "Cbc0010I After 2337 nodes, 42 on tree, 233607.49 best solution, best possible 106096.03 (168.41 seconds)\n",
      "Cbc0010I After 2352 nodes, 40 on tree, 233607.49 best solution, best possible 106096.03 (169.14 seconds)\n",
      "Cbc0010I After 2362 nodes, 42 on tree, 233607.49 best solution, best possible 106096.03 (169.86 seconds)\n",
      "Cbc0010I After 2375 nodes, 42 on tree, 233607.49 best solution, best possible 106096.03 (170.59 seconds)\n",
      "Cbc0010I After 2387 nodes, 41 on tree, 233607.49 best solution, best possible 106096.03 (171.31 seconds)\n",
      "Cbc0010I After 2401 nodes, 40 on tree, 233607.49 best solution, best possible 106096.03 (172.08 seconds)\n",
      "Cbc0010I After 2413 nodes, 36 on tree, 233607.49 best solution, best possible 106096.03 (172.99 seconds)\n",
      "Cbc0010I After 2420 nodes, 37 on tree, 233607.49 best solution, best possible 106096.03 (173.70 seconds)\n",
      "Cbc0010I After 2427 nodes, 37 on tree, 233607.49 best solution, best possible 106096.03 (174.43 seconds)\n",
      "Cbc0010I After 2437 nodes, 35 on tree, 233607.49 best solution, best possible 106096.03 (175.15 seconds)\n",
      "Cbc0010I After 2445 nodes, 38 on tree, 233607.49 best solution, best possible 106096.03 (175.85 seconds)\n",
      "Cbc0010I After 2457 nodes, 40 on tree, 233607.49 best solution, best possible 106096.03 (176.62 seconds)\n",
      "Cbc0010I After 2477 nodes, 33 on tree, 233607.49 best solution, best possible 106096.03 (177.48 seconds)\n",
      "Cbc0010I After 2485 nodes, 36 on tree, 233607.49 best solution, best possible 106096.03 (178.26 seconds)\n",
      "Cbc0010I After 2496 nodes, 34 on tree, 233607.49 best solution, best possible 106096.03 (179.00 seconds)\n",
      "Cbc0010I After 2503 nodes, 36 on tree, 233607.49 best solution, best possible 106096.03 (179.74 seconds)\n",
      "Cbc0010I After 2509 nodes, 37 on tree, 233607.49 best solution, best possible 106096.03 (180.44 seconds)\n",
      "Cbc0010I After 2518 nodes, 39 on tree, 233607.49 best solution, best possible 106096.03 (181.15 seconds)\n",
      "Cbc0010I After 2528 nodes, 40 on tree, 233607.49 best solution, best possible 106096.03 (181.92 seconds)\n",
      "Cbc0010I After 2543 nodes, 41 on tree, 233607.49 best solution, best possible 106096.03 (182.86 seconds)\n",
      "Cbc0010I After 2558 nodes, 40 on tree, 233607.49 best solution, best possible 106096.03 (183.57 seconds)\n",
      "Cbc0010I After 2579 nodes, 37 on tree, 233607.49 best solution, best possible 106096.03 (184.54 seconds)\n",
      "Cbc0010I After 2595 nodes, 35 on tree, 233607.49 best solution, best possible 106096.03 (185.25 seconds)\n",
      "Cbc0010I After 2604 nodes, 38 on tree, 233607.49 best solution, best possible 106096.03 (185.97 seconds)\n",
      "Cbc0010I After 2614 nodes, 35 on tree, 233607.49 best solution, best possible 106096.03 (186.75 seconds)\n",
      "Cbc0010I After 2621 nodes, 34 on tree, 233607.49 best solution, best possible 106096.03 (187.46 seconds)\n",
      "Cbc0010I After 2632 nodes, 35 on tree, 233607.49 best solution, best possible 106096.03 (188.33 seconds)\n",
      "Cbc0010I After 2636 nodes, 36 on tree, 233607.49 best solution, best possible 106096.03 (189.18 seconds)\n",
      "Cbc0010I After 2642 nodes, 39 on tree, 233607.49 best solution, best possible 106096.03 (189.92 seconds)\n",
      "Cbc0010I After 2653 nodes, 40 on tree, 233607.49 best solution, best possible 106096.03 (190.84 seconds)\n",
      "Cbc0010I After 2665 nodes, 39 on tree, 233607.49 best solution, best possible 106096.03 (191.59 seconds)\n",
      "Cbc0010I After 2673 nodes, 36 on tree, 233607.49 best solution, best possible 106096.03 (192.36 seconds)\n",
      "Cbc0010I After 2683 nodes, 38 on tree, 233607.49 best solution, best possible 106096.03 (193.16 seconds)\n",
      "Cbc0010I After 2697 nodes, 36 on tree, 233607.49 best solution, best possible 106096.03 (193.90 seconds)\n",
      "Cbc0010I After 2708 nodes, 36 on tree, 233607.49 best solution, best possible 106096.03 (194.63 seconds)\n",
      "Cbc0010I After 2724 nodes, 34 on tree, 233607.49 best solution, best possible 106096.03 (195.33 seconds)\n",
      "Cbc0010I After 2734 nodes, 33 on tree, 233607.49 best solution, best possible 106096.03 (196.12 seconds)\n",
      "Cbc0010I After 2746 nodes, 33 on tree, 233607.49 best solution, best possible 106096.03 (196.86 seconds)\n",
      "Cbc0010I After 2757 nodes, 30 on tree, 233607.49 best solution, best possible 106096.03 (197.67 seconds)\n",
      "Cbc0010I After 2765 nodes, 32 on tree, 233607.49 best solution, best possible 106096.03 (198.42 seconds)\n",
      "Cbc0010I After 2774 nodes, 31 on tree, 233607.49 best solution, best possible 106096.03 (199.17 seconds)\n",
      "Cbc0010I After 2785 nodes, 28 on tree, 233607.49 best solution, best possible 106096.03 (199.95 seconds)\n",
      "Cbc0010I After 2794 nodes, 29 on tree, 233607.49 best solution, best possible 106096.03 (200.76 seconds)\n",
      "Cbc0010I After 2801 nodes, 29 on tree, 233607.49 best solution, best possible 106096.03 (201.52 seconds)\n",
      "Cbc0010I After 2809 nodes, 31 on tree, 233607.49 best solution, best possible 106096.03 (202.25 seconds)\n",
      "Cbc0010I After 2819 nodes, 32 on tree, 233607.49 best solution, best possible 106096.03 (203.07 seconds)\n",
      "Cbc0010I After 2827 nodes, 32 on tree, 233607.49 best solution, best possible 106096.03 (203.84 seconds)\n",
      "Cbc0010I After 2833 nodes, 34 on tree, 233607.49 best solution, best possible 106096.03 (204.55 seconds)\n",
      "Cbc0010I After 2842 nodes, 33 on tree, 233607.49 best solution, best possible 106096.03 (205.30 seconds)\n",
      "Cbc0010I After 2854 nodes, 34 on tree, 233607.49 best solution, best possible 106096.03 (206.06 seconds)\n",
      "Cbc0010I After 2869 nodes, 31 on tree, 233607.49 best solution, best possible 106096.03 (206.82 seconds)\n",
      "Cbc0010I After 2880 nodes, 29 on tree, 233607.49 best solution, best possible 106096.03 (207.54 seconds)\n",
      "Cbc0010I After 2886 nodes, 29 on tree, 233607.49 best solution, best possible 106096.03 (208.28 seconds)\n",
      "Cbc0010I After 2901 nodes, 26 on tree, 233607.49 best solution, best possible 106096.03 (209.04 seconds)\n",
      "Cbc0010I After 2906 nodes, 27 on tree, 233607.49 best solution, best possible 106096.03 (209.75 seconds)\n",
      "Cbc0010I After 2919 nodes, 24 on tree, 233607.49 best solution, best possible 106096.03 (210.59 seconds)\n",
      "Cbc0010I After 2924 nodes, 29 on tree, 233607.49 best solution, best possible 106096.03 (211.31 seconds)\n",
      "Cbc0010I After 2938 nodes, 26 on tree, 233607.49 best solution, best possible 106096.03 (212.04 seconds)\n",
      "Cbc0010I After 2947 nodes, 21 on tree, 233607.49 best solution, best possible 106096.03 (212.89 seconds)\n",
      "Cbc0010I After 2957 nodes, 20 on tree, 233607.49 best solution, best possible 106096.03 (213.65 seconds)\n",
      "Cbc0010I After 2967 nodes, 25 on tree, 233607.49 best solution, best possible 106096.03 (214.37 seconds)\n",
      "Cbc0010I After 2975 nodes, 25 on tree, 233607.49 best solution, best possible 106096.03 (215.08 seconds)\n",
      "Cbc0010I After 2986 nodes, 24 on tree, 233607.49 best solution, best possible 106096.03 (215.88 seconds)\n",
      "Cbc0010I After 3003 nodes, 19 on tree, 233607.49 best solution, best possible 106096.03 (216.71 seconds)\n",
      "Cbc0010I After 3006 nodes, 20 on tree, 233607.49 best solution, best possible 106096.03 (217.53 seconds)\n",
      "Cbc0010I After 3010 nodes, 21 on tree, 233607.49 best solution, best possible 106096.03 (218.27 seconds)\n",
      "Cbc0010I After 3017 nodes, 18 on tree, 233607.49 best solution, best possible 106096.03 (219.11 seconds)\n",
      "Cbc0010I After 3022 nodes, 18 on tree, 233607.49 best solution, best possible 106096.03 (219.95 seconds)\n",
      "Cbc0010I After 3025 nodes, 19 on tree, 233607.49 best solution, best possible 106096.03 (220.67 seconds)\n",
      "Cbc0010I After 3035 nodes, 16 on tree, 233607.49 best solution, best possible 106096.03 (221.43 seconds)\n",
      "Cbc0010I After 3041 nodes, 15 on tree, 233607.49 best solution, best possible 106096.03 (222.16 seconds)\n",
      "Cbc0010I After 3047 nodes, 14 on tree, 233607.49 best solution, best possible 106096.03 (222.88 seconds)\n",
      "Cbc0010I After 3055 nodes, 13 on tree, 233607.49 best solution, best possible 106096.03 (224.07 seconds)\n",
      "Cbc0010I After 3062 nodes, 16 on tree, 233607.49 best solution, best possible 106096.03 (225.22 seconds)\n",
      "Cbc0010I After 3071 nodes, 16 on tree, 233607.49 best solution, best possible 106096.03 (226.10 seconds)\n",
      "Cbc0010I After 3080 nodes, 12 on tree, 233607.49 best solution, best possible 106096.03 (227.09 seconds)\n",
      "Cbc0010I After 3087 nodes, 13 on tree, 233607.49 best solution, best possible 106096.03 (227.79 seconds)\n",
      "Cbc0010I After 3093 nodes, 16 on tree, 233607.49 best solution, best possible 106096.03 (228.88 seconds)\n",
      "Cbc0010I After 3103 nodes, 11 on tree, 233607.49 best solution, best possible 106096.03 (229.65 seconds)\n",
      "Cbc0010I After 3111 nodes, 8 on tree, 233607.49 best solution, best possible 106096.03 (230.43 seconds)\n",
      "Cbc0010I After 3116 nodes, 10 on tree, 233607.49 best solution, best possible 106096.03 (231.13 seconds)\n",
      "Cbc0010I After 3123 nodes, 7 on tree, 233607.49 best solution, best possible 106096.03 (231.85 seconds)\n",
      "Cbc0010I After 3133 nodes, 2 on tree, 233607.49 best solution, best possible 106096.03 (232.74 seconds)\n",
      "Cbc0010I After 3138 nodes, 2 on tree, 233607.49 best solution, best possible 147069.4 (233.54 seconds)\n",
      "Cbc0010I After 3144 nodes, 2 on tree, 233607.49 best solution, best possible 147069.4 (235.01 seconds)\n",
      "Cbc0010I After 3148 nodes, 2 on tree, 233607.49 best solution, best possible 147069.4 (235.94 seconds)\n",
      "Cbc0010I After 3156 nodes, 2 on tree, 233607.49 best solution, best possible 168643.84 (236.65 seconds)\n",
      "Cbc0010I After 3159 nodes, 3 on tree, 233607.49 best solution, best possible 170238.91 (237.62 seconds)\n",
      "Cbc0010I After 3169 nodes, 2 on tree, 233607.49 best solution, best possible 173126.62 (238.45 seconds)\n",
      "Cbc0010I After 3179 nodes, 5 on tree, 233607.49 best solution, best possible 182025.98 (239.15 seconds)\n",
      "Cbc0010I After 3191 nodes, 3 on tree, 233607.49 best solution, best possible 184673.43 (239.99 seconds)\n",
      "Cbc0010I After 3199 nodes, 6 on tree, 233607.49 best solution, best possible 188632.34 (240.70 seconds)\n",
      "Cbc0010I After 3211 nodes, 6 on tree, 233607.49 best solution, best possible 188682.18 (241.44 seconds)\n",
      "Cbc0010I After 3222 nodes, 5 on tree, 233607.49 best solution, best possible 188713.38 (242.15 seconds)\n",
      "Cbc0010I After 3230 nodes, 3 on tree, 233607.49 best solution, best possible 188812.75 (242.86 seconds)\n",
      "Cbc0010I After 3243 nodes, 3 on tree, 233607.49 best solution, best possible 203630.53 (243.56 seconds)\n",
      "Cbc0010I After 3251 nodes, 5 on tree, 233607.49 best solution, best possible 205654.51 (244.27 seconds)\n",
      "Cbc0010I After 3258 nodes, 8 on tree, 233607.49 best solution, best possible 205683.85 (244.99 seconds)\n",
      "Cbc0010I After 3271 nodes, 2 on tree, 233607.49 best solution, best possible 205799.84 (245.69 seconds)\n",
      "Cbc0010I After 3275 nodes, 2 on tree, 233607.49 best solution, best possible 205799.84 (246.45 seconds)\n",
      "Cbc0010I After 3285 nodes, 3 on tree, 233607.49 best solution, best possible 228678.28 (247.29 seconds)\n",
      "Cbc0010I After 3298 nodes, 1 on tree, 233607.49 best solution, best possible 228678.28 (248.05 seconds)\n",
      "Cbc0010I AfOptimizationStatus.OPTIMAL\n",
      "optimal solution cost 233607.49178295932 found\n"
     ]
    }
   ],
   "source": [
    "print(\"Solve\")\n",
    "# Solve the problem\n",
    "# m.max_gap = 0.1\n",
    "# m.threads = -1\n",
    "\n",
    "status = m.optimize() # max_seconds=100\n",
    "\n",
    "print(status)\n",
    "# Check the status and show the solutions\n",
    "if status == OptimizationStatus.OPTIMAL:\n",
    "    print('optimal solution cost {} found'.format(m.objective_value))\n",
    "elif status == OptimizationStatus.FEASIBLE:\n",
    "    print('sol.cost {} found, best possible: {}'.format(m.objective_value, m.objective_bound))\n",
    "elif status in [OptimizationStatus.NO_SOLUTION_FOUND, OptimizationStatus.INFEASIBLE]:\n",
    "    print('no feasible solution found, lower bound is: {}'.format(m.objective_bound))\n",
    "\n",
    "if status == OptimizationStatus.OPTIMAL or status == OptimizationStatus.FEASIBLE:\n",
    "    #print('solution:')\n",
    "    d_sol = {}\n",
    "    for v in m.vars:\n",
    "        d_sol.update({v.name: v.x})\n",
    "    #print(\"Solution: \", d_sol)\n",
    "    df_sol = pd.DataFrame.from_dict(d_sol, orient='index', columns=['biomass'])\n",
    "    df_sol.to_csv(os.path.join(OUT_SYNTH_DATA_PATH, 'solution.csv'))"
   ]
  },
  {
   "cell_type": "code",
   "execution_count": 7,
   "id": "fb157c22",
   "metadata": {
    "execution": {
     "iopub.execute_input": "2023-08-01T17:04:03.185689Z",
     "iopub.status.busy": "2023-08-01T17:04:03.184729Z",
     "iopub.status.idle": "2023-08-01T17:04:03.208428Z",
     "shell.execute_reply": "2023-08-01T17:04:03.207164Z"
    },
    "papermill": {
     "duration": 0.036752,
     "end_time": "2023-08-01T17:04:03.211388",
     "exception": false,
     "start_time": "2023-08-01T17:04:03.174636",
     "status": "completed"
    },
    "tags": []
   },
   "outputs": [
    {
     "name": "stdout",
     "output_type": "stream",
     "text": [
      "Forecasted biomass for year 2018:  1488.016473495\n",
      "Biomass transported to depots for year 2018:  1488.016473495\n",
      "Biomass transported to depots for year 2018:  1488.0174734949999\n",
      "\n",
      "Forecasted biomass for year 2019:  1766.976034022\n",
      "Biomass transported to depots for year 2019:  1766.9760340219998\n",
      "Biomass transported to depots for year 2019:  1766.9770340219998\n"
     ]
    }
   ],
   "source": [
    "# Sanity check for all quantities\n",
    "sent_biomass_to_depots_18 = df_sol.loc[df_sol.index.str.startswith('b_2018'), 'biomass'].sum()\n",
    "sent_pellets_to_refinery_18 = df_sol.loc[df_sol.index.str.startswith('p_2018'), 'biomass'].sum()\n",
    "print('Forecasted biomass for year 2018: ', total_fc_18)\n",
    "print('Biomass transported to depots for year 2018: ', sent_biomass_to_depots_18)\n",
    "print('Biomass transported to depots for year 2018: ', sent_pellets_to_refinery_18)\n",
    "print()\n",
    "sent_biomass_to_depots_19 = df_sol.loc[df_sol.index.str.startswith('b_2019'), 'biomass'].sum()\n",
    "sent_pellets_to_refinery_19 = df_sol.loc[df_sol.index.str.startswith('p_2019'), 'biomass'].sum()\n",
    "print(\"Forecasted biomass for year 2019: \", total_fc_19)\n",
    "print('Biomass transported to depots for year 2019: ', sent_biomass_to_depots_19)\n",
    "print('Biomass transported to depots for year 2019: ', sent_pellets_to_refinery_19)"
   ]
  },
  {
   "cell_type": "code",
   "execution_count": 8,
   "id": "58028bc8",
   "metadata": {
    "execution": {
     "iopub.execute_input": "2023-08-01T17:04:03.230858Z",
     "iopub.status.busy": "2023-08-01T17:04:03.230446Z",
     "iopub.status.idle": "2023-08-01T17:04:03.653858Z",
     "shell.execute_reply": "2023-08-01T17:04:03.652418Z"
    },
    "papermill": {
     "duration": 0.436106,
     "end_time": "2023-08-01T17:04:03.656263",
     "exception": false,
     "start_time": "2023-08-01T17:04:03.220157",
     "status": "completed"
    },
    "tags": []
   },
   "outputs": [
    {
     "name": "stdout",
     "output_type": "stream",
     "text": [
      "Final transport and underuse cost:  233607.49178295932\n"
     ]
    }
   ],
   "source": [
    "# Compute total cost\n",
    "total_cost = float(xsum(d_matrix_cost[i, j] * (df_sol.loc[f'b_2018_{i}_{j}'][0] + df_sol.loc[f'b_2019_{i}_{j}'][0]) \\\n",
    "                            for i in range(len(d_matrix_cost)) for j in accepted_destin_dict[i])) + \\\n",
    "                       float(xsum(d_matrix_cost[i, j] * (df_sol.loc[f'p_2018_{i}_{j}'][0] + df_sol.loc[f'p_2019_{i}_{j}'][0]) \\\n",
    "                            for i in ls_j for j in ls_j)) + \\\n",
    "                       float(xsum(2*cap_b_j*x[j] + 2*cap_p_j*r[j] for j in ls_j)) + \\\n",
    "                       float(xsum(- df_sol.loc[f'b_2018_{i}_{j}'][0] - df_sol.loc[f'b_2019_{i}_{j}'][0] \\\n",
    "                            for j in ls_j for i in accepted_source_dict[j])) + \\\n",
    "                       float(xsum(- df_sol.loc[f'p_2018_{i}_{j}'][0] - df_sol.loc[f'p_2019_{i}_{j}'][0] \\\n",
    "                            for i in ls_j for j in ls_j))\n",
    "print('Final transport and underuse cost: ', total_cost)"
   ]
  },
  {
   "cell_type": "code",
   "execution_count": 9,
   "id": "ad7c4585",
   "metadata": {
    "execution": {
     "iopub.execute_input": "2023-08-01T17:04:03.676427Z",
     "iopub.status.busy": "2023-08-01T17:04:03.676020Z",
     "iopub.status.idle": "2023-08-01T17:04:03.680614Z",
     "shell.execute_reply": "2023-08-01T17:04:03.679547Z"
    },
    "papermill": {
     "duration": 0.017505,
     "end_time": "2023-08-01T17:04:03.682849",
     "exception": false,
     "start_time": "2023-08-01T17:04:03.665344",
     "status": "completed"
    },
    "tags": []
   },
   "outputs": [],
   "source": [
    "# This code works\n",
    "# underuse_cost = float(xsum(2*cap_b_j*x[j] + 2*cap_p_j*r[j] for j in ls_j)) + \\\n",
    "#                        float(xsum(- df_sol.loc[f'b_2018_{i}_{j}'][0] - df_sol.loc[f'b_2019_{i}_{j}'][0] \\\n",
    "#                             for j in ls_j for i in accepted_source_dict[j])) + \\\n",
    "#                        float(xsum(- df_sol.loc[f'p_2018_{i}_{j}'][0] - df_sol.loc[f'p_2019_{i}_{j}'][0] \\\n",
    "#                             for i in ls_j for j in ls_j))\n",
    "# print(underuse_cost)"
   ]
  },
  {
   "cell_type": "code",
   "execution_count": null,
   "id": "3ac6dc0f",
   "metadata": {
    "papermill": {
     "duration": 0.009002,
     "end_time": "2023-08-01T17:04:03.700858",
     "exception": false,
     "start_time": "2023-08-01T17:04:03.691856",
     "status": "completed"
    },
    "tags": []
   },
   "outputs": [],
   "source": []
  }
 ],
 "metadata": {
  "kernelspec": {
   "display_name": "Python 3",
   "language": "python",
   "name": "python3"
  },
  "language_info": {
   "codemirror_mode": {
    "name": "ipython",
    "version": 3
   },
   "file_extension": ".py",
   "mimetype": "text/x-python",
   "name": "python",
   "nbconvert_exporter": "python",
   "pygments_lexer": "ipython3",
   "version": "3.9.0"
  },
  "papermill": {
   "default_parameters": {},
   "duration": 285.074014,
   "end_time": "2023-08-01T17:04:04.734656",
   "environment_variables": {},
   "exception": null,
   "input_path": "__notebook__.ipynb",
   "output_path": "__notebook__.ipynb",
   "parameters": {},
   "start_time": "2023-08-01T16:59:19.660642",
   "version": "2.4.0"
  }
 },
 "nbformat": 4,
 "nbformat_minor": 5
}
