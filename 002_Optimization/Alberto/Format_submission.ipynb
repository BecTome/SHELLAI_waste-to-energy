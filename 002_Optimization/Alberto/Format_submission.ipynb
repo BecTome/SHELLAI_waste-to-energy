{
 "cells": [
  {
   "cell_type": "markdown",
   "metadata": {},
   "source": [
    "# Submission Preparation"
   ]
  },
  {
   "cell_type": "code",
   "execution_count": 26,
   "metadata": {},
   "outputs": [],
   "source": [
    "import pandas as pd\n",
    "import os\n",
    "\n",
    "SYNTH_DATA_PATH = '../data'\n",
    "OUT_SYNTH_DATA_PATH = '../output'\n",
    "SOLUTION_FILE = 'solution_28_07_2023_18_29_25.csv'"
   ]
  },
  {
   "cell_type": "markdown",
   "metadata": {},
   "source": [
    "- We have provided a sample solution.csv file for your reference. Your submission must\n",
    "follow the same format.\n",
    "- If you don’t provide values for all valid indices, a default value i.e. zero will be considered\n",
    "as the value for those indices. This may result into constraint violation.\n",
    "- For data_type depot_location and refinery_location, entries under destination_index and\n",
    "value are not required and will be disregarded. You may choose to keep these entries blank.\n",
    "- For data_type biomass_forecast, entries under destination_index are not required and will be\n",
    "disregarded. You may choose to keep these entries blank.\n",
    "- Optimized supply chain infrastructure proposed in your solution must be the same for both\n",
    "year 2018 and 2019. Consequently, the entries for data_type depot_location and\n",
    "refinery_location will be agnostic to year. Use year = 20182019 for such common entries.\n",
    "- You can only place one depot per grid block/location. Similarly, You can only place one\n",
    "biorefinery per grid block/location.\n",
    "- Your solution will be eligible for ranking only if it satisfies all the constraints for 2018 and 2019.\n",
    "- You do not need to submit your source code files. When you submit your solution, you can\n",
    "ignore the \"Upload source code\" field.\n",
    "- We will keep the first year (2018) of your solution for the public leaderboard. You can test\n",
    "your solution any time and see how it ranks.\n",
    "- We will keep the second year (2019) of your solution for the private leaderboard and it will\n",
    "be used to determine the finalists."
   ]
  },
  {
   "cell_type": "code",
   "execution_count": 27,
   "metadata": {},
   "outputs": [
    {
     "data": {
      "text/html": [
       "<div>\n",
       "<style scoped>\n",
       "    .dataframe tbody tr th:only-of-type {\n",
       "        vertical-align: middle;\n",
       "    }\n",
       "\n",
       "    .dataframe tbody tr th {\n",
       "        vertical-align: top;\n",
       "    }\n",
       "\n",
       "    .dataframe thead th {\n",
       "        text-align: right;\n",
       "    }\n",
       "</style>\n",
       "<table border=\"1\" class=\"dataframe\">\n",
       "  <thead>\n",
       "    <tr style=\"text-align: right;\">\n",
       "      <th></th>\n",
       "      <th>year</th>\n",
       "      <th>data_type</th>\n",
       "      <th>source_index</th>\n",
       "      <th>destination_index</th>\n",
       "      <th>value</th>\n",
       "    </tr>\n",
       "  </thead>\n",
       "  <tbody>\n",
       "    <tr>\n",
       "      <th>0</th>\n",
       "      <td>20182019</td>\n",
       "      <td>depot_location</td>\n",
       "      <td>1256</td>\n",
       "      <td>NaN</td>\n",
       "      <td>NaN</td>\n",
       "    </tr>\n",
       "    <tr>\n",
       "      <th>1</th>\n",
       "      <td>20182019</td>\n",
       "      <td>depot_location</td>\n",
       "      <td>1595</td>\n",
       "      <td>NaN</td>\n",
       "      <td>NaN</td>\n",
       "    </tr>\n",
       "    <tr>\n",
       "      <th>2</th>\n",
       "      <td>20182019</td>\n",
       "      <td>depot_location</td>\n",
       "      <td>1271</td>\n",
       "      <td>NaN</td>\n",
       "      <td>NaN</td>\n",
       "    </tr>\n",
       "    <tr>\n",
       "      <th>3</th>\n",
       "      <td>20182019</td>\n",
       "      <td>depot_location</td>\n",
       "      <td>2001</td>\n",
       "      <td>NaN</td>\n",
       "      <td>NaN</td>\n",
       "    </tr>\n",
       "    <tr>\n",
       "      <th>4</th>\n",
       "      <td>20182019</td>\n",
       "      <td>depot_location</td>\n",
       "      <td>2201</td>\n",
       "      <td>NaN</td>\n",
       "      <td>NaN</td>\n",
       "    </tr>\n",
       "  </tbody>\n",
       "</table>\n",
       "</div>"
      ],
      "text/plain": [
       "       year       data_type  source_index  destination_index  value\n",
       "0  20182019  depot_location          1256                NaN    NaN\n",
       "1  20182019  depot_location          1595                NaN    NaN\n",
       "2  20182019  depot_location          1271                NaN    NaN\n",
       "3  20182019  depot_location          2001                NaN    NaN\n",
       "4  20182019  depot_location          2201                NaN    NaN"
      ]
     },
     "execution_count": 27,
     "metadata": {},
     "output_type": "execute_result"
    }
   ],
   "source": [
    "df_submission = pd.read_csv(os.path.join(SYNTH_DATA_PATH, 'sample_submission.csv'))\n",
    "df_submission.head()"
   ]
  },
  {
   "cell_type": "code",
   "execution_count": 28,
   "metadata": {},
   "outputs": [
    {
     "data": {
      "text/plain": [
       "data_type\n",
       "biomass_demand_supply    21646\n",
       "biomass_forecast          4836\n",
       "pellet_demand_supply       152\n",
       "depot_location              21\n",
       "refinery_location            4\n",
       "Name: count, dtype: int64"
      ]
     },
     "execution_count": 28,
     "metadata": {},
     "output_type": "execute_result"
    }
   ],
   "source": [
    "df_submission['data_type'].value_counts()"
   ]
  },
  {
   "cell_type": "code",
   "execution_count": 29,
   "metadata": {},
   "outputs": [
    {
     "data": {
      "text/html": [
       "<div>\n",
       "<style scoped>\n",
       "    .dataframe tbody tr th:only-of-type {\n",
       "        vertical-align: middle;\n",
       "    }\n",
       "\n",
       "    .dataframe tbody tr th {\n",
       "        vertical-align: top;\n",
       "    }\n",
       "\n",
       "    .dataframe thead th {\n",
       "        text-align: right;\n",
       "    }\n",
       "</style>\n",
       "<table border=\"1\" class=\"dataframe\">\n",
       "  <thead>\n",
       "    <tr style=\"text-align: right;\">\n",
       "      <th></th>\n",
       "      <th>data_type</th>\n",
       "      <th>solution</th>\n",
       "    </tr>\n",
       "  </thead>\n",
       "  <tbody>\n",
       "    <tr>\n",
       "      <th>0</th>\n",
       "      <td>b_2018_809_809</td>\n",
       "      <td>0.0</td>\n",
       "    </tr>\n",
       "    <tr>\n",
       "      <th>1</th>\n",
       "      <td>b_2018_809_1278</td>\n",
       "      <td>0.0</td>\n",
       "    </tr>\n",
       "    <tr>\n",
       "      <th>2</th>\n",
       "      <td>b_2018_809_1060</td>\n",
       "      <td>0.0</td>\n",
       "    </tr>\n",
       "    <tr>\n",
       "      <th>3</th>\n",
       "      <td>b_2018_809_744</td>\n",
       "      <td>0.0</td>\n",
       "    </tr>\n",
       "    <tr>\n",
       "      <th>4</th>\n",
       "      <td>b_2018_809_1004</td>\n",
       "      <td>0.0</td>\n",
       "    </tr>\n",
       "  </tbody>\n",
       "</table>\n",
       "</div>"
      ],
      "text/plain": [
       "         data_type  solution\n",
       "0   b_2018_809_809       0.0\n",
       "1  b_2018_809_1278       0.0\n",
       "2  b_2018_809_1060       0.0\n",
       "3   b_2018_809_744       0.0\n",
       "4  b_2018_809_1004       0.0"
      ]
     },
     "execution_count": 29,
     "metadata": {},
     "output_type": "execute_result"
    }
   ],
   "source": [
    "df_sol = pd.read_csv(os.path.join(OUT_SYNTH_DATA_PATH, SOLUTION_FILE))\n",
    "df_sol.columns = [\"data_type\", \"solution\"]\n",
    "df_sol.head()"
   ]
  },
  {
   "cell_type": "code",
   "execution_count": 30,
   "metadata": {},
   "outputs": [
    {
     "data": {
      "text/html": [
       "<div>\n",
       "<style scoped>\n",
       "    .dataframe tbody tr th:only-of-type {\n",
       "        vertical-align: middle;\n",
       "    }\n",
       "\n",
       "    .dataframe tbody tr th {\n",
       "        vertical-align: top;\n",
       "    }\n",
       "\n",
       "    .dataframe thead th {\n",
       "        text-align: right;\n",
       "    }\n",
       "</style>\n",
       "<table border=\"1\" class=\"dataframe\">\n",
       "  <thead>\n",
       "    <tr style=\"text-align: right;\">\n",
       "      <th></th>\n",
       "      <th>Index</th>\n",
       "      <th>Latitude</th>\n",
       "      <th>Longitude</th>\n",
       "      <th>2018</th>\n",
       "      <th>2019</th>\n",
       "    </tr>\n",
       "  </thead>\n",
       "  <tbody>\n",
       "    <tr>\n",
       "      <th>0</th>\n",
       "      <td>0</td>\n",
       "      <td>24.66818</td>\n",
       "      <td>71.33144</td>\n",
       "      <td>7.387925</td>\n",
       "      <td>5.180296</td>\n",
       "    </tr>\n",
       "    <tr>\n",
       "      <th>1</th>\n",
       "      <td>1</td>\n",
       "      <td>24.66818</td>\n",
       "      <td>71.41106</td>\n",
       "      <td>40.431847</td>\n",
       "      <td>42.126945</td>\n",
       "    </tr>\n",
       "    <tr>\n",
       "      <th>2</th>\n",
       "      <td>2</td>\n",
       "      <td>24.66818</td>\n",
       "      <td>71.49069</td>\n",
       "      <td>59.181629</td>\n",
       "      <td>73.203232</td>\n",
       "    </tr>\n",
       "    <tr>\n",
       "      <th>3</th>\n",
       "      <td>3</td>\n",
       "      <td>24.66818</td>\n",
       "      <td>71.57031</td>\n",
       "      <td>74.536720</td>\n",
       "      <td>101.067352</td>\n",
       "    </tr>\n",
       "    <tr>\n",
       "      <th>4</th>\n",
       "      <td>4</td>\n",
       "      <td>24.66818</td>\n",
       "      <td>71.64994</td>\n",
       "      <td>16.531315</td>\n",
       "      <td>26.086885</td>\n",
       "    </tr>\n",
       "  </tbody>\n",
       "</table>\n",
       "</div>"
      ],
      "text/plain": [
       "   Index  Latitude  Longitude       2018        2019\n",
       "0      0  24.66818   71.33144   7.387925    5.180296\n",
       "1      1  24.66818   71.41106  40.431847   42.126945\n",
       "2      2  24.66818   71.49069  59.181629   73.203232\n",
       "3      3  24.66818   71.57031  74.536720  101.067352\n",
       "4      4  24.66818   71.64994  16.531315   26.086885"
      ]
     },
     "execution_count": 30,
     "metadata": {},
     "output_type": "execute_result"
    }
   ],
   "source": [
    "df_fc = pd.read_csv(os.path.join(SYNTH_DATA_PATH, 'Biomass_History_Synthetic.csv'))\n",
    "df_fc.head()"
   ]
  },
  {
   "cell_type": "code",
   "execution_count": 31,
   "metadata": {},
   "outputs": [
    {
     "data": {
      "text/html": [
       "<div>\n",
       "<style scoped>\n",
       "    .dataframe tbody tr th:only-of-type {\n",
       "        vertical-align: middle;\n",
       "    }\n",
       "\n",
       "    .dataframe tbody tr th {\n",
       "        vertical-align: top;\n",
       "    }\n",
       "\n",
       "    .dataframe thead th {\n",
       "        text-align: right;\n",
       "    }\n",
       "</style>\n",
       "<table border=\"1\" class=\"dataframe\">\n",
       "  <thead>\n",
       "    <tr style=\"text-align: right;\">\n",
       "      <th></th>\n",
       "      <th>data_type</th>\n",
       "      <th>year</th>\n",
       "      <th>source_index</th>\n",
       "      <th>destination_index</th>\n",
       "      <th>value</th>\n",
       "    </tr>\n",
       "  </thead>\n",
       "  <tbody>\n",
       "    <tr>\n",
       "      <th>0</th>\n",
       "      <td>biomass_forecast</td>\n",
       "      <td>2018</td>\n",
       "      <td>0</td>\n",
       "      <td>None</td>\n",
       "      <td>7.387925</td>\n",
       "    </tr>\n",
       "    <tr>\n",
       "      <th>1</th>\n",
       "      <td>biomass_forecast</td>\n",
       "      <td>2018</td>\n",
       "      <td>1</td>\n",
       "      <td>None</td>\n",
       "      <td>40.431847</td>\n",
       "    </tr>\n",
       "    <tr>\n",
       "      <th>2</th>\n",
       "      <td>biomass_forecast</td>\n",
       "      <td>2018</td>\n",
       "      <td>2</td>\n",
       "      <td>None</td>\n",
       "      <td>59.181629</td>\n",
       "    </tr>\n",
       "    <tr>\n",
       "      <th>3</th>\n",
       "      <td>biomass_forecast</td>\n",
       "      <td>2018</td>\n",
       "      <td>3</td>\n",
       "      <td>None</td>\n",
       "      <td>74.536720</td>\n",
       "    </tr>\n",
       "    <tr>\n",
       "      <th>4</th>\n",
       "      <td>biomass_forecast</td>\n",
       "      <td>2018</td>\n",
       "      <td>4</td>\n",
       "      <td>None</td>\n",
       "      <td>16.531315</td>\n",
       "    </tr>\n",
       "  </tbody>\n",
       "</table>\n",
       "</div>"
      ],
      "text/plain": [
       "          data_type  year  source_index destination_index      value\n",
       "0  biomass_forecast  2018             0              None   7.387925\n",
       "1  biomass_forecast  2018             1              None  40.431847\n",
       "2  biomass_forecast  2018             2              None  59.181629\n",
       "3  biomass_forecast  2018             3              None  74.536720\n",
       "4  biomass_forecast  2018             4              None  16.531315"
      ]
     },
     "execution_count": 31,
     "metadata": {},
     "output_type": "execute_result"
    }
   ],
   "source": [
    "df_fc_sol = df_fc.copy()\n",
    "df_fc_sol = df_fc_sol.melt(value_vars=['2018', '2019'], var_name='year', value_name='biomass', id_vars=['Index'])\n",
    "df_fc_sol['data_type'] = 'biomass_forecast'\n",
    "df_fc_sol['destination_index'] = None\n",
    "df_fc_sol = df_fc_sol[['data_type', 'year', 'Index', 'destination_index', 'biomass']]\n",
    "df_fc_sol.columns = ['data_type', 'year', 'source_index', 'destination_index', 'value']\n",
    "df_fc_sol.head()"
   ]
  },
  {
   "cell_type": "markdown",
   "metadata": {},
   "source": [
    "## Biomass"
   ]
  },
  {
   "cell_type": "code",
   "execution_count": 32,
   "metadata": {},
   "outputs": [
    {
     "data": {
      "text/html": [
       "<div>\n",
       "<style scoped>\n",
       "    .dataframe tbody tr th:only-of-type {\n",
       "        vertical-align: middle;\n",
       "    }\n",
       "\n",
       "    .dataframe tbody tr th {\n",
       "        vertical-align: top;\n",
       "    }\n",
       "\n",
       "    .dataframe thead th {\n",
       "        text-align: right;\n",
       "    }\n",
       "</style>\n",
       "<table border=\"1\" class=\"dataframe\">\n",
       "  <thead>\n",
       "    <tr style=\"text-align: right;\">\n",
       "      <th></th>\n",
       "      <th>data_type</th>\n",
       "      <th>year</th>\n",
       "      <th>source_index</th>\n",
       "      <th>destination_index</th>\n",
       "      <th>value</th>\n",
       "    </tr>\n",
       "  </thead>\n",
       "  <tbody>\n",
       "    <tr>\n",
       "      <th>15</th>\n",
       "      <td>biomass_demand_supply</td>\n",
       "      <td>2018</td>\n",
       "      <td>809</td>\n",
       "      <td>1063</td>\n",
       "      <td>170.129959</td>\n",
       "    </tr>\n",
       "    <tr>\n",
       "      <th>127</th>\n",
       "      <td>biomass_demand_supply</td>\n",
       "      <td>2018</td>\n",
       "      <td>1278</td>\n",
       "      <td>1063</td>\n",
       "      <td>42.676819</td>\n",
       "    </tr>\n",
       "    <tr>\n",
       "      <th>239</th>\n",
       "      <td>biomass_demand_supply</td>\n",
       "      <td>2018</td>\n",
       "      <td>1060</td>\n",
       "      <td>1063</td>\n",
       "      <td>196.065643</td>\n",
       "    </tr>\n",
       "    <tr>\n",
       "      <th>351</th>\n",
       "      <td>biomass_demand_supply</td>\n",
       "      <td>2018</td>\n",
       "      <td>744</td>\n",
       "      <td>1063</td>\n",
       "      <td>221.294220</td>\n",
       "    </tr>\n",
       "    <tr>\n",
       "      <th>463</th>\n",
       "      <td>biomass_demand_supply</td>\n",
       "      <td>2018</td>\n",
       "      <td>1004</td>\n",
       "      <td>1063</td>\n",
       "      <td>184.094040</td>\n",
       "    </tr>\n",
       "  </tbody>\n",
       "</table>\n",
       "</div>"
      ],
      "text/plain": [
       "                 data_type  year source_index destination_index       value\n",
       "15   biomass_demand_supply  2018          809              1063  170.129959\n",
       "127  biomass_demand_supply  2018         1278              1063   42.676819\n",
       "239  biomass_demand_supply  2018         1060              1063  196.065643\n",
       "351  biomass_demand_supply  2018          744              1063  221.294220\n",
       "463  biomass_demand_supply  2018         1004              1063  184.094040"
      ]
     },
     "execution_count": 32,
     "metadata": {},
     "output_type": "execute_result"
    }
   ],
   "source": [
    "df_sol_proc = df_sol.copy()\n",
    "df_sol_proc['data_type'] = df_sol_proc['data_type'].str.replace('x_', 'x_20182019_').str.replace('r_', 'r_20182019_')\n",
    "df_sol_proc = df_sol_proc['data_type'].str.split(\"_\", expand=True)\n",
    "df_sol_proc.columns = ['data_type', 'year', 'source_index', 'destination_index']\n",
    "\n",
    "df_sol_proc['value'] = df_sol['solution']\n",
    "df_sol_proc['data_type'] = df_sol_proc['data_type'].map({'b': 'biomass_demand_supply', \n",
    "                                                         'p': 'pellet_demand_supply', \n",
    "                                                         'x': 'depot_location', \n",
    "                                                         'r': 'refinery_location'})\n",
    "df_sol_proc = df_sol_proc[df_sol_proc['value'] != 0]\n",
    "\n",
    "df_sol_proc = pd.concat([df_sol_proc, df_fc_sol])\n",
    "df_sol_proc.head()"
   ]
  },
  {
   "cell_type": "code",
   "execution_count": 33,
   "metadata": {},
   "outputs": [
    {
     "data": {
      "text/html": [
       "<div>\n",
       "<style scoped>\n",
       "    .dataframe tbody tr th:only-of-type {\n",
       "        vertical-align: middle;\n",
       "    }\n",
       "\n",
       "    .dataframe tbody tr th {\n",
       "        vertical-align: top;\n",
       "    }\n",
       "\n",
       "    .dataframe thead th {\n",
       "        text-align: right;\n",
       "    }\n",
       "</style>\n",
       "<table border=\"1\" class=\"dataframe\">\n",
       "  <thead>\n",
       "    <tr style=\"text-align: right;\">\n",
       "      <th></th>\n",
       "      <th>data_type</th>\n",
       "      <th>year</th>\n",
       "      <th>source_index</th>\n",
       "      <th>destination_index</th>\n",
       "      <th>value</th>\n",
       "    </tr>\n",
       "  </thead>\n",
       "  <tbody>\n",
       "    <tr>\n",
       "      <th>50191</th>\n",
       "      <td>depot_location</td>\n",
       "      <td>20182019</td>\n",
       "      <td>1063</td>\n",
       "      <td>None</td>\n",
       "      <td>1.0</td>\n",
       "    </tr>\n",
       "  </tbody>\n",
       "</table>\n",
       "</div>"
      ],
      "text/plain": [
       "            data_type      year source_index destination_index  value\n",
       "50191  depot_location  20182019         1063              None    1.0"
      ]
     },
     "execution_count": 33,
     "metadata": {},
     "output_type": "execute_result"
    }
   ],
   "source": [
    "df_sol_proc[df_sol_proc['data_type'] == 'depot_location'].head()"
   ]
  },
  {
   "cell_type": "code",
   "execution_count": 34,
   "metadata": {},
   "outputs": [
    {
     "data": {
      "text/html": [
       "<div>\n",
       "<style scoped>\n",
       "    .dataframe tbody tr th:only-of-type {\n",
       "        vertical-align: middle;\n",
       "    }\n",
       "\n",
       "    .dataframe tbody tr th {\n",
       "        vertical-align: top;\n",
       "    }\n",
       "\n",
       "    .dataframe thead th {\n",
       "        text-align: right;\n",
       "    }\n",
       "</style>\n",
       "<table border=\"1\" class=\"dataframe\">\n",
       "  <thead>\n",
       "    <tr style=\"text-align: right;\">\n",
       "      <th></th>\n",
       "      <th>data_type</th>\n",
       "      <th>year</th>\n",
       "      <th>source_index</th>\n",
       "      <th>destination_index</th>\n",
       "      <th>value</th>\n",
       "    </tr>\n",
       "  </thead>\n",
       "  <tbody>\n",
       "    <tr>\n",
       "      <th>50288</th>\n",
       "      <td>refinery_location</td>\n",
       "      <td>20182019</td>\n",
       "      <td>809</td>\n",
       "      <td>None</td>\n",
       "      <td>1.0</td>\n",
       "    </tr>\n",
       "  </tbody>\n",
       "</table>\n",
       "</div>"
      ],
      "text/plain": [
       "               data_type      year source_index destination_index  value\n",
       "50288  refinery_location  20182019          809              None    1.0"
      ]
     },
     "execution_count": 34,
     "metadata": {},
     "output_type": "execute_result"
    }
   ],
   "source": [
    "df_sol_proc[df_sol_proc['data_type'] == 'refinery_location'].head()"
   ]
  },
  {
   "cell_type": "code",
   "execution_count": 35,
   "metadata": {},
   "outputs": [
    {
     "data": {
      "text/plain": [
       "data_type\n",
       "biomass_forecast         4836\n",
       "biomass_demand_supply     155\n",
       "pellet_demand_supply        2\n",
       "depot_location              1\n",
       "refinery_location           1\n",
       "Name: count, dtype: int64"
      ]
     },
     "execution_count": 35,
     "metadata": {},
     "output_type": "execute_result"
    }
   ],
   "source": [
    "df_sol_proc.data_type.value_counts()"
   ]
  },
  {
   "cell_type": "code",
   "execution_count": 36,
   "metadata": {},
   "outputs": [
    {
     "data": {
      "text/html": [
       "<div>\n",
       "<style scoped>\n",
       "    .dataframe tbody tr th:only-of-type {\n",
       "        vertical-align: middle;\n",
       "    }\n",
       "\n",
       "    .dataframe tbody tr th {\n",
       "        vertical-align: top;\n",
       "    }\n",
       "\n",
       "    .dataframe thead th {\n",
       "        text-align: right;\n",
       "    }\n",
       "</style>\n",
       "<table border=\"1\" class=\"dataframe\">\n",
       "  <thead>\n",
       "    <tr style=\"text-align: right;\">\n",
       "      <th></th>\n",
       "      <th>data_type</th>\n",
       "      <th>year</th>\n",
       "      <th>source_index</th>\n",
       "      <th>destination_index</th>\n",
       "      <th>value</th>\n",
       "    </tr>\n",
       "  </thead>\n",
       "  <tbody>\n",
       "    <tr>\n",
       "      <th>15</th>\n",
       "      <td>biomass_demand_supply</td>\n",
       "      <td>2018</td>\n",
       "      <td>809</td>\n",
       "      <td>1063</td>\n",
       "      <td>170.129959</td>\n",
       "    </tr>\n",
       "    <tr>\n",
       "      <th>127</th>\n",
       "      <td>biomass_demand_supply</td>\n",
       "      <td>2018</td>\n",
       "      <td>1278</td>\n",
       "      <td>1063</td>\n",
       "      <td>42.676819</td>\n",
       "    </tr>\n",
       "    <tr>\n",
       "      <th>239</th>\n",
       "      <td>biomass_demand_supply</td>\n",
       "      <td>2018</td>\n",
       "      <td>1060</td>\n",
       "      <td>1063</td>\n",
       "      <td>196.065643</td>\n",
       "    </tr>\n",
       "    <tr>\n",
       "      <th>351</th>\n",
       "      <td>biomass_demand_supply</td>\n",
       "      <td>2018</td>\n",
       "      <td>744</td>\n",
       "      <td>1063</td>\n",
       "      <td>221.294220</td>\n",
       "    </tr>\n",
       "    <tr>\n",
       "      <th>463</th>\n",
       "      <td>biomass_demand_supply</td>\n",
       "      <td>2018</td>\n",
       "      <td>1004</td>\n",
       "      <td>1063</td>\n",
       "      <td>184.094040</td>\n",
       "    </tr>\n",
       "    <tr>\n",
       "      <th>...</th>\n",
       "      <td>...</td>\n",
       "      <td>...</td>\n",
       "      <td>...</td>\n",
       "      <td>...</td>\n",
       "      <td>...</td>\n",
       "    </tr>\n",
       "    <tr>\n",
       "      <th>24543</th>\n",
       "      <td>biomass_demand_supply</td>\n",
       "      <td>2019</td>\n",
       "      <td>221</td>\n",
       "      <td>1063</td>\n",
       "      <td>153.434204</td>\n",
       "    </tr>\n",
       "    <tr>\n",
       "      <th>24655</th>\n",
       "      <td>biomass_demand_supply</td>\n",
       "      <td>2019</td>\n",
       "      <td>1020</td>\n",
       "      <td>1063</td>\n",
       "      <td>149.782852</td>\n",
       "    </tr>\n",
       "    <tr>\n",
       "      <th>24767</th>\n",
       "      <td>biomass_demand_supply</td>\n",
       "      <td>2019</td>\n",
       "      <td>1028</td>\n",
       "      <td>1063</td>\n",
       "      <td>15.375629</td>\n",
       "    </tr>\n",
       "    <tr>\n",
       "      <th>24879</th>\n",
       "      <td>biomass_demand_supply</td>\n",
       "      <td>2019</td>\n",
       "      <td>505</td>\n",
       "      <td>1063</td>\n",
       "      <td>92.133476</td>\n",
       "    </tr>\n",
       "    <tr>\n",
       "      <th>24991</th>\n",
       "      <td>biomass_demand_supply</td>\n",
       "      <td>2019</td>\n",
       "      <td>813</td>\n",
       "      <td>1063</td>\n",
       "      <td>139.317596</td>\n",
       "    </tr>\n",
       "  </tbody>\n",
       "</table>\n",
       "<p>155 rows × 5 columns</p>\n",
       "</div>"
      ],
      "text/plain": [
       "                   data_type  year source_index destination_index       value\n",
       "15     biomass_demand_supply  2018          809              1063  170.129959\n",
       "127    biomass_demand_supply  2018         1278              1063   42.676819\n",
       "239    biomass_demand_supply  2018         1060              1063  196.065643\n",
       "351    biomass_demand_supply  2018          744              1063  221.294220\n",
       "463    biomass_demand_supply  2018         1004              1063  184.094040\n",
       "...                      ...   ...          ...               ...         ...\n",
       "24543  biomass_demand_supply  2019          221              1063  153.434204\n",
       "24655  biomass_demand_supply  2019         1020              1063  149.782852\n",
       "24767  biomass_demand_supply  2019         1028              1063   15.375629\n",
       "24879  biomass_demand_supply  2019          505              1063   92.133476\n",
       "24991  biomass_demand_supply  2019          813              1063  139.317596\n",
       "\n",
       "[155 rows x 5 columns]"
      ]
     },
     "execution_count": 36,
     "metadata": {},
     "output_type": "execute_result"
    }
   ],
   "source": [
    "df_sol_proc[df_sol_proc['data_type'] == 'biomass_demand_supply']#.head()"
   ]
  },
  {
   "cell_type": "code",
   "execution_count": 37,
   "metadata": {},
   "outputs": [
    {
     "data": {
      "text/plain": [
       "destination_index\n",
       "1063    155\n",
       "Name: count, dtype: int64"
      ]
     },
     "execution_count": 37,
     "metadata": {},
     "output_type": "execute_result"
    }
   ],
   "source": [
    "df_sol_proc[df_sol_proc['data_type'] == 'biomass_demand_supply'].destination_index.value_counts()#.head()"
   ]
  },
  {
   "cell_type": "code",
   "execution_count": 38,
   "metadata": {},
   "outputs": [
    {
     "data": {
      "text/plain": [
       "Index        1020.000000\n",
       "Latitude       22.814370\n",
       "Longitude      73.640570\n",
       "2018           95.019615\n",
       "2019          149.782852\n",
       "Name: 1020, dtype: float64"
      ]
     },
     "execution_count": 38,
     "metadata": {},
     "output_type": "execute_result"
    }
   ],
   "source": [
    "df_fc.loc[1020, :]"
   ]
  },
  {
   "cell_type": "code",
   "execution_count": 39,
   "metadata": {},
   "outputs": [
    {
     "data": {
      "text/plain": [
       "year  destination_index\n",
       "2018  1063                 13240.184983\n",
       "2019  1063                 16808.765179\n",
       "Name: value, dtype: float64"
      ]
     },
     "execution_count": 39,
     "metadata": {},
     "output_type": "execute_result"
    }
   ],
   "source": [
    "rest_2 = df_sol_proc[df_sol_proc['data_type'] == 'biomass_demand_supply'].groupby(['year', 'destination_index'])['value'].sum()\n",
    "rest_2"
   ]
  },
  {
   "cell_type": "code",
   "execution_count": 40,
   "metadata": {},
   "outputs": [
    {
     "data": {
      "text/plain": [
       "year  source_index\n",
       "2018  1004            184.094040\n",
       "      1015            219.028778\n",
       "      1020             95.019615\n",
       "      1028             13.498848\n",
       "      103             111.943245\n",
       "                         ...    \n",
       "2019  868             205.152802\n",
       "      882              30.233065\n",
       "      891              88.030396\n",
       "      935             176.405548\n",
       "      985             115.161858\n",
       "Name: value, Length: 155, dtype: float64"
      ]
     },
     "execution_count": 40,
     "metadata": {},
     "output_type": "execute_result"
    }
   ],
   "source": [
    "rest_2 = df_sol_proc[df_sol_proc['data_type'] == 'biomass_demand_supply'].groupby(['year', 'source_index'])['value'].sum()\n",
    "rest_2"
   ]
  },
  {
   "cell_type": "code",
   "execution_count": 41,
   "metadata": {},
   "outputs": [
    {
     "data": {
      "text/plain": [
       "Index        1063.000000\n",
       "Latitude       22.733770\n",
       "Longitude      72.685070\n",
       "2018          247.525650\n",
       "2019          151.901977\n",
       "Name: 1063, dtype: float64"
      ]
     },
     "execution_count": 41,
     "metadata": {},
     "output_type": "execute_result"
    }
   ],
   "source": [
    "df_fc.iloc[1063, :]"
   ]
  },
  {
   "cell_type": "code",
   "execution_count": 42,
   "metadata": {},
   "outputs": [
    {
     "data": {
      "text/html": [
       "<div>\n",
       "<style scoped>\n",
       "    .dataframe tbody tr th:only-of-type {\n",
       "        vertical-align: middle;\n",
       "    }\n",
       "\n",
       "    .dataframe tbody tr th {\n",
       "        vertical-align: top;\n",
       "    }\n",
       "\n",
       "    .dataframe thead th {\n",
       "        text-align: right;\n",
       "    }\n",
       "</style>\n",
       "<table border=\"1\" class=\"dataframe\">\n",
       "  <thead>\n",
       "    <tr style=\"text-align: right;\">\n",
       "      <th></th>\n",
       "      <th>data_type</th>\n",
       "      <th>year</th>\n",
       "      <th>source_index</th>\n",
       "      <th>destination_index</th>\n",
       "      <th>value</th>\n",
       "    </tr>\n",
       "  </thead>\n",
       "  <tbody>\n",
       "    <tr>\n",
       "      <th>25103</th>\n",
       "      <td>pellet_demand_supply</td>\n",
       "      <td>2018</td>\n",
       "      <td>1063</td>\n",
       "      <td>809</td>\n",
       "      <td>14491.933938</td>\n",
       "    </tr>\n",
       "    <tr>\n",
       "      <th>37647</th>\n",
       "      <td>pellet_demand_supply</td>\n",
       "      <td>2019</td>\n",
       "      <td>1063</td>\n",
       "      <td>809</td>\n",
       "      <td>17953.653824</td>\n",
       "    </tr>\n",
       "  </tbody>\n",
       "</table>\n",
       "</div>"
      ],
      "text/plain": [
       "                  data_type  year source_index destination_index         value\n",
       "25103  pellet_demand_supply  2018         1063               809  14491.933938\n",
       "37647  pellet_demand_supply  2019         1063               809  17953.653824"
      ]
     },
     "execution_count": 42,
     "metadata": {},
     "output_type": "execute_result"
    }
   ],
   "source": [
    "df_sol_proc[df_sol_proc['data_type'] == 'pellet_demand_supply'].head()"
   ]
  },
  {
   "cell_type": "code",
   "execution_count": 43,
   "metadata": {},
   "outputs": [
    {
     "data": {
      "text/html": [
       "<div>\n",
       "<style scoped>\n",
       "    .dataframe tbody tr th:only-of-type {\n",
       "        vertical-align: middle;\n",
       "    }\n",
       "\n",
       "    .dataframe tbody tr th {\n",
       "        vertical-align: top;\n",
       "    }\n",
       "\n",
       "    .dataframe thead th {\n",
       "        text-align: right;\n",
       "    }\n",
       "</style>\n",
       "<table border=\"1\" class=\"dataframe\">\n",
       "  <thead>\n",
       "    <tr style=\"text-align: right;\">\n",
       "      <th></th>\n",
       "      <th>data_type</th>\n",
       "      <th>year</th>\n",
       "      <th>source_index</th>\n",
       "      <th>destination_index</th>\n",
       "      <th>value</th>\n",
       "    </tr>\n",
       "  </thead>\n",
       "  <tbody>\n",
       "    <tr>\n",
       "      <th>25103</th>\n",
       "      <td>pellet_demand_supply</td>\n",
       "      <td>2018</td>\n",
       "      <td>1063</td>\n",
       "      <td>809</td>\n",
       "      <td>14491.933938</td>\n",
       "    </tr>\n",
       "    <tr>\n",
       "      <th>37647</th>\n",
       "      <td>pellet_demand_supply</td>\n",
       "      <td>2019</td>\n",
       "      <td>1063</td>\n",
       "      <td>809</td>\n",
       "      <td>17953.653824</td>\n",
       "    </tr>\n",
       "  </tbody>\n",
       "</table>\n",
       "</div>"
      ],
      "text/plain": [
       "                  data_type  year source_index destination_index         value\n",
       "25103  pellet_demand_supply  2018         1063               809  14491.933938\n",
       "37647  pellet_demand_supply  2019         1063               809  17953.653824"
      ]
     },
     "execution_count": 43,
     "metadata": {},
     "output_type": "execute_result"
    }
   ],
   "source": [
    "df_sol_proc[df_sol_proc['data_type'] == 'pellet_demand_supply'].head()"
   ]
  },
  {
   "cell_type": "code",
   "execution_count": 44,
   "metadata": {},
   "outputs": [],
   "source": [
    "df_sol_proc.to_csv(os.path.join(OUT_SYNTH_DATA_PATH, 'subm_yearly_test_def.csv'), index=False)"
   ]
  },
  {
   "cell_type": "code",
   "execution_count": 45,
   "metadata": {},
   "outputs": [
    {
     "data": {
      "text/html": [
       "<div>\n",
       "<style scoped>\n",
       "    .dataframe tbody tr th:only-of-type {\n",
       "        vertical-align: middle;\n",
       "    }\n",
       "\n",
       "    .dataframe tbody tr th {\n",
       "        vertical-align: top;\n",
       "    }\n",
       "\n",
       "    .dataframe thead th {\n",
       "        text-align: right;\n",
       "    }\n",
       "</style>\n",
       "<table border=\"1\" class=\"dataframe\">\n",
       "  <thead>\n",
       "    <tr style=\"text-align: right;\">\n",
       "      <th></th>\n",
       "      <th>data_type</th>\n",
       "      <th>year</th>\n",
       "      <th>source_index</th>\n",
       "      <th>destination_index</th>\n",
       "      <th>value</th>\n",
       "    </tr>\n",
       "  </thead>\n",
       "  <tbody>\n",
       "    <tr>\n",
       "      <th>15</th>\n",
       "      <td>biomass_demand_supply</td>\n",
       "      <td>2018</td>\n",
       "      <td>809</td>\n",
       "      <td>1063</td>\n",
       "      <td>170.129959</td>\n",
       "    </tr>\n",
       "    <tr>\n",
       "      <th>127</th>\n",
       "      <td>biomass_demand_supply</td>\n",
       "      <td>2018</td>\n",
       "      <td>1278</td>\n",
       "      <td>1063</td>\n",
       "      <td>42.676819</td>\n",
       "    </tr>\n",
       "    <tr>\n",
       "      <th>239</th>\n",
       "      <td>biomass_demand_supply</td>\n",
       "      <td>2018</td>\n",
       "      <td>1060</td>\n",
       "      <td>1063</td>\n",
       "      <td>196.065643</td>\n",
       "    </tr>\n",
       "    <tr>\n",
       "      <th>351</th>\n",
       "      <td>biomass_demand_supply</td>\n",
       "      <td>2018</td>\n",
       "      <td>744</td>\n",
       "      <td>1063</td>\n",
       "      <td>221.294220</td>\n",
       "    </tr>\n",
       "    <tr>\n",
       "      <th>463</th>\n",
       "      <td>biomass_demand_supply</td>\n",
       "      <td>2018</td>\n",
       "      <td>1004</td>\n",
       "      <td>1063</td>\n",
       "      <td>184.094040</td>\n",
       "    </tr>\n",
       "    <tr>\n",
       "      <th>...</th>\n",
       "      <td>...</td>\n",
       "      <td>...</td>\n",
       "      <td>...</td>\n",
       "      <td>...</td>\n",
       "      <td>...</td>\n",
       "    </tr>\n",
       "    <tr>\n",
       "      <th>4831</th>\n",
       "      <td>biomass_forecast</td>\n",
       "      <td>2019</td>\n",
       "      <td>2413</td>\n",
       "      <td>None</td>\n",
       "      <td>5.321604</td>\n",
       "    </tr>\n",
       "    <tr>\n",
       "      <th>4832</th>\n",
       "      <td>biomass_forecast</td>\n",
       "      <td>2019</td>\n",
       "      <td>2414</td>\n",
       "      <td>None</td>\n",
       "      <td>0.120626</td>\n",
       "    </tr>\n",
       "    <tr>\n",
       "      <th>4833</th>\n",
       "      <td>biomass_forecast</td>\n",
       "      <td>2019</td>\n",
       "      <td>2415</td>\n",
       "      <td>None</td>\n",
       "      <td>0.038879</td>\n",
       "    </tr>\n",
       "    <tr>\n",
       "      <th>4834</th>\n",
       "      <td>biomass_forecast</td>\n",
       "      <td>2019</td>\n",
       "      <td>2416</td>\n",
       "      <td>None</td>\n",
       "      <td>1.304297</td>\n",
       "    </tr>\n",
       "    <tr>\n",
       "      <th>4835</th>\n",
       "      <td>biomass_forecast</td>\n",
       "      <td>2019</td>\n",
       "      <td>2417</td>\n",
       "      <td>None</td>\n",
       "      <td>0.226953</td>\n",
       "    </tr>\n",
       "  </tbody>\n",
       "</table>\n",
       "<p>4995 rows × 5 columns</p>\n",
       "</div>"
      ],
      "text/plain": [
       "                  data_type  year source_index destination_index       value\n",
       "15    biomass_demand_supply  2018          809              1063  170.129959\n",
       "127   biomass_demand_supply  2018         1278              1063   42.676819\n",
       "239   biomass_demand_supply  2018         1060              1063  196.065643\n",
       "351   biomass_demand_supply  2018          744              1063  221.294220\n",
       "463   biomass_demand_supply  2018         1004              1063  184.094040\n",
       "...                     ...   ...          ...               ...         ...\n",
       "4831       biomass_forecast  2019         2413              None    5.321604\n",
       "4832       biomass_forecast  2019         2414              None    0.120626\n",
       "4833       biomass_forecast  2019         2415              None    0.038879\n",
       "4834       biomass_forecast  2019         2416              None    1.304297\n",
       "4835       biomass_forecast  2019         2417              None    0.226953\n",
       "\n",
       "[4995 rows x 5 columns]"
      ]
     },
     "execution_count": 45,
     "metadata": {},
     "output_type": "execute_result"
    }
   ],
   "source": [
    "df_sol_proc"
   ]
  },
  {
   "cell_type": "code",
   "execution_count": null,
   "metadata": {},
   "outputs": [],
   "source": []
  }
 ],
 "metadata": {
  "kernelspec": {
   "display_name": "Python 3",
   "language": "python",
   "name": "python3"
  },
  "language_info": {
   "codemirror_mode": {
    "name": "ipython",
    "version": 3
   },
   "file_extension": ".py",
   "mimetype": "text/x-python",
   "name": "python",
   "nbconvert_exporter": "python",
   "pygments_lexer": "ipython3",
   "version": "3.9.0"
  },
  "orig_nbformat": 4
 },
 "nbformat": 4,
 "nbformat_minor": 2
}
