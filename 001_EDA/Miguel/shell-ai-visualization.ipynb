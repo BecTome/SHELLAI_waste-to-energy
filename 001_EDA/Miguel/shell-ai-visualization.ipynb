{
 "cells": [
  {
   "cell_type": "markdown",
   "id": "41eafcef",
   "metadata": {
    "papermill": {
     "duration": 0.006642,
     "end_time": "2023-08-01T16:55:50.797791",
     "exception": false,
     "start_time": "2023-08-01T16:55:50.791149",
     "status": "completed"
    },
    "tags": []
   },
   "source": [
    "This is a **private notebook** to have some visualization in the **Shell.ai Hackathon 2023**. **Important, do not publish this notebook or its results anywhere, for private use only**."
   ]
  },
  {
   "cell_type": "markdown",
   "id": "cfd0ce32",
   "metadata": {
    "papermill": {
     "duration": 0.005927,
     "end_time": "2023-08-01T16:55:50.809982",
     "exception": false,
     "start_time": "2023-08-01T16:55:50.804055",
     "status": "completed"
    },
    "tags": []
   },
   "source": [
    "# 1. Data loading"
   ]
  },
  {
   "cell_type": "code",
   "execution_count": 1,
   "id": "51c5209a",
   "metadata": {
    "execution": {
     "iopub.execute_input": "2023-08-01T16:55:50.824088Z",
     "iopub.status.busy": "2023-08-01T16:55:50.823710Z",
     "iopub.status.idle": "2023-08-01T16:55:51.738436Z",
     "shell.execute_reply": "2023-08-01T16:55:51.736196Z"
    },
    "papermill": {
     "duration": 0.924185,
     "end_time": "2023-08-01T16:55:51.740364",
     "exception": true,
     "start_time": "2023-08-01T16:55:50.816179",
     "status": "failed"
    },
    "tags": []
   },
   "outputs": [
    {
     "ename": "ModuleNotFoundError",
     "evalue": "No module named 'mpl_toolkits.basemap'",
     "output_type": "error",
     "traceback": [
      "\u001b[0;31m---------------------------------------------------------------------------\u001b[0m",
      "\u001b[0;31mModuleNotFoundError\u001b[0m                       Traceback (most recent call last)",
      "Cell \u001b[0;32mIn[1], line 10\u001b[0m\n\u001b[1;32m      8\u001b[0m \u001b[38;5;28;01mimport\u001b[39;00m \u001b[38;5;21;01mmatplotlib\u001b[39;00m\u001b[38;5;21;01m.\u001b[39;00m\u001b[38;5;21;01mpyplot\u001b[39;00m \u001b[38;5;28;01mas\u001b[39;00m \u001b[38;5;21;01mplt\u001b[39;00m\n\u001b[1;32m      9\u001b[0m \u001b[38;5;28;01mfrom\u001b[39;00m \u001b[38;5;21;01mmatplotlib\u001b[39;00m \u001b[38;5;28;01mimport\u001b[39;00m colors, animation\n\u001b[0;32m---> 10\u001b[0m \u001b[38;5;28;01mfrom\u001b[39;00m \u001b[38;5;21;01mmpl_toolkits\u001b[39;00m\u001b[38;5;21;01m.\u001b[39;00m\u001b[38;5;21;01mbasemap\u001b[39;00m \u001b[38;5;28;01mimport\u001b[39;00m Basemap\n\u001b[1;32m     11\u001b[0m \u001b[38;5;28;01mimport\u001b[39;00m \u001b[38;5;21;01mplotly\u001b[39;00m\u001b[38;5;21;01m.\u001b[39;00m\u001b[38;5;21;01mexpress\u001b[39;00m \u001b[38;5;28;01mas\u001b[39;00m \u001b[38;5;21;01mpx\u001b[39;00m\n\u001b[1;32m     12\u001b[0m \u001b[38;5;28;01mfrom\u001b[39;00m \u001b[38;5;21;01mIPython\u001b[39;00m\u001b[38;5;21;01m.\u001b[39;00m\u001b[38;5;21;01mdisplay\u001b[39;00m \u001b[38;5;28;01mimport\u001b[39;00m HTML\n",
      "\u001b[0;31mModuleNotFoundError\u001b[0m: No module named 'mpl_toolkits.basemap'"
     ]
    }
   ],
   "source": [
    "# Imports\n",
    "import numpy as np\n",
    "import pandas as pd\n",
    "import geopandas as gpd\n",
    "from datetime import date, timedelta\n",
    "import folium\n",
    "import folium.plugins\n",
    "import matplotlib.pyplot as plt\n",
    "from matplotlib import colors, animation\n",
    "from mpl_toolkits.basemap import Basemap\n",
    "import plotly.express as px\n",
    "from IPython.display import HTML\n",
    "from branca.colormap import linear\n",
    "import plotly.graph_objects as go\n",
    "\n",
    "# GUJARAT center coordinates 22.6708° N, 71.5724° E\n",
    "GUJARAT_CENTER_LAT = 22.6708\n",
    "GUJARAT_CENTER_LON = 71.5724"
   ]
  },
  {
   "cell_type": "code",
   "execution_count": null,
   "id": "480b41da",
   "metadata": {
    "execution": {
     "iopub.execute_input": "2023-08-01T16:53:56.263596Z",
     "iopub.status.busy": "2023-08-01T16:53:56.262737Z",
     "iopub.status.idle": "2023-08-01T16:53:56.306765Z",
     "shell.execute_reply": "2023-08-01T16:53:56.305597Z",
     "shell.execute_reply.started": "2023-08-01T16:53:56.263558Z"
    },
    "papermill": {
     "duration": null,
     "end_time": null,
     "exception": null,
     "start_time": null,
     "status": "pending"
    },
    "tags": []
   },
   "outputs": [],
   "source": [
    "# Load csv data\n",
    "biomass_history_df = pd.read_csv('/kaggle/input/biomass-history/Biomass_History.csv')\n",
    "biomass_history_df"
   ]
  },
  {
   "cell_type": "code",
   "execution_count": null,
   "id": "49d54bc5",
   "metadata": {
    "execution": {
     "iopub.execute_input": "2023-08-01T16:53:56.311327Z",
     "iopub.status.busy": "2023-08-01T16:53:56.310007Z",
     "iopub.status.idle": "2023-08-01T16:54:28.565872Z",
     "shell.execute_reply": "2023-08-01T16:54:28.564853Z",
     "shell.execute_reply.started": "2023-08-01T16:53:56.311292Z"
    },
    "papermill": {
     "duration": null,
     "end_time": null,
     "exception": null,
     "start_time": null,
     "status": "pending"
    },
    "tags": []
   },
   "outputs": [],
   "source": [
    "# Some data formating\n",
    "biomass_df = pd.DataFrame(columns=['map_index', 'lat', 'lon', 'year', 'biomass'])\n",
    "biomass_df\n",
    "years = [str(x) for x in list(np.arange(2010, 2018))]\n",
    "for idx, row in biomass_history_df.iterrows():\n",
    "    for year in years:\n",
    "        biomass_df = pd.concat([biomass_df, pd.DataFrame(data=[[int(row['Index']), row['Latitude'], \n",
    "                                                                row['Longitude'], year, row[year]]],\n",
    "                                                         columns=['map_index', 'lat', 'lon', 'year', 'biomass'])])\n",
    "biomass_df"
   ]
  },
  {
   "cell_type": "markdown",
   "id": "c177578c",
   "metadata": {
    "papermill": {
     "duration": null,
     "end_time": null,
     "exception": null,
     "start_time": null,
     "status": "pending"
    },
    "tags": []
   },
   "source": [
    "# 2. Map visualization"
   ]
  },
  {
   "cell_type": "code",
   "execution_count": null,
   "id": "f25b93d8",
   "metadata": {
    "execution": {
     "iopub.execute_input": "2023-08-01T16:54:28.569241Z",
     "iopub.status.busy": "2023-08-01T16:54:28.568904Z",
     "iopub.status.idle": "2023-08-01T16:54:28.999631Z",
     "shell.execute_reply": "2023-08-01T16:54:28.998764Z",
     "shell.execute_reply.started": "2023-08-01T16:54:28.569212Z"
    },
    "papermill": {
     "duration": null,
     "end_time": null,
     "exception": null,
     "start_time": null,
     "status": "pending"
    },
    "tags": []
   },
   "outputs": [],
   "source": [
    "# Plot animated map for the time series\n",
    "# Source: https://stackoverflow.com/questions/60366358/animate-a-plotly-map-with-a-sliding-date-bar\n",
    "fig = px.density_mapbox(biomass_df,\n",
    "                        lat=biomass_df['lat'],\n",
    "                        lon=biomass_df['lon'],\n",
    "                        z=biomass_df['biomass'],\n",
    "                        radius=10,\n",
    "                        animation_frame='year',\n",
    "                        range_color=(0, 1300)\n",
    "                        )\n",
    "fig.update_layout(mapbox_style='carto-positron', mapbox_zoom=6, mapbox_center = {'lat': GUJARAT_CENTER_LAT, 'lon': GUJARAT_CENTER_LON},)\n",
    "fig.update_layout(margin={'r':0,'t':0,'l':0,'b':0})\n",
    "fig.layout.updatemenus[0].buttons[0].args[1]['frame']['duration'] = 600\n",
    "fig.layout.updatemenus[0].buttons[0].args[1]['transition']['duration'] = 600\n",
    "fig.layout.coloraxis.showscale = True\n",
    "fig.layout.sliders[0].pad.t = 10\n",
    "fig.layout.updatemenus[0].pad.t= 10\n",
    "\n",
    "fig.show()"
   ]
  },
  {
   "cell_type": "code",
   "execution_count": null,
   "id": "6e80993c",
   "metadata": {
    "execution": {
     "iopub.execute_input": "2023-08-01T16:54:29.001597Z",
     "iopub.status.busy": "2023-08-01T16:54:29.000769Z",
     "iopub.status.idle": "2023-08-01T16:54:29.198963Z",
     "shell.execute_reply": "2023-08-01T16:54:29.197901Z",
     "shell.execute_reply.started": "2023-08-01T16:54:29.001564Z"
    },
    "papermill": {
     "duration": null,
     "end_time": null,
     "exception": null,
     "start_time": null,
     "status": "pending"
    },
    "tags": []
   },
   "outputs": [],
   "source": [
    "# Plot animated map showing the map index\n",
    "# Source: https://stackoverflow.com/questions/60366358/animate-a-plotly-map-with-a-sliding-date-bar\n",
    "fig = px.density_mapbox(biomass_df, \n",
    "                        lat=biomass_df['lat'], \n",
    "                        lon=biomass_df['lon'], \n",
    "                        z=biomass_df['map_index'],\n",
    "                        radius=10,\n",
    "                        animation_frame='year',\n",
    "                        range_color=(0, 2500)\n",
    "                        )\n",
    "fig.update_layout(mapbox_style='carto-positron', mapbox_zoom=6, mapbox_center = {'lat': GUJARAT_CENTER_LAT, 'lon': GUJARAT_CENTER_LON},)\n",
    "fig.update_layout(margin={'r':0,'t':0,'l':0,'b':0})\n",
    "fig.layout.updatemenus[0].buttons[0].args[1]['frame']['duration'] = 600\n",
    "fig.layout.updatemenus[0].buttons[0].args[1]['transition']['duration'] = 600\n",
    "fig.layout.coloraxis.showscale = True\n",
    "fig.layout.sliders[0].pad.t = 10\n",
    "fig.layout.updatemenus[0].pad.t= 10\n",
    "\n",
    "fig.show()"
   ]
  },
  {
   "cell_type": "code",
   "execution_count": null,
   "id": "aae45305",
   "metadata": {
    "execution": {
     "iopub.execute_input": "2023-08-01T16:54:29.200537Z",
     "iopub.status.busy": "2023-08-01T16:54:29.200232Z",
     "iopub.status.idle": "2023-08-01T16:54:42.903641Z",
     "shell.execute_reply": "2023-08-01T16:54:42.902327Z",
     "shell.execute_reply.started": "2023-08-01T16:54:29.200510Z"
    },
    "papermill": {
     "duration": null,
     "end_time": null,
     "exception": null,
     "start_time": null,
     "status": "pending"
    },
    "tags": []
   },
   "outputs": [],
   "source": [
    "!pip install basemap --quiet"
   ]
  },
  {
   "cell_type": "code",
   "execution_count": null,
   "id": "7d54a9fe",
   "metadata": {
    "execution": {
     "iopub.execute_input": "2023-08-01T16:54:42.905916Z",
     "iopub.status.busy": "2023-08-01T16:54:42.905443Z",
     "iopub.status.idle": "2023-08-01T16:54:42.937393Z",
     "shell.execute_reply": "2023-08-01T16:54:42.936255Z",
     "shell.execute_reply.started": "2023-08-01T16:54:42.905870Z"
    },
    "papermill": {
     "duration": null,
     "end_time": null,
     "exception": null,
     "start_time": null,
     "status": "pending"
    },
    "tags": []
   },
   "outputs": [],
   "source": [
    "biomass_df[biomass_df['year'] == '2010']"
   ]
  },
  {
   "cell_type": "code",
   "execution_count": null,
   "id": "3c03d499",
   "metadata": {
    "execution": {
     "iopub.execute_input": "2023-08-01T16:54:42.939573Z",
     "iopub.status.busy": "2023-08-01T16:54:42.939157Z",
     "iopub.status.idle": "2023-08-01T16:54:47.707894Z",
     "shell.execute_reply": "2023-08-01T16:54:47.706567Z",
     "shell.execute_reply.started": "2023-08-01T16:54:42.939535Z"
    },
    "papermill": {
     "duration": null,
     "end_time": null,
     "exception": null,
     "start_time": null,
     "status": "pending"
    },
    "tags": []
   },
   "outputs": [],
   "source": [
    "import matplotlib.pyplot as plt\n",
    "from mpl_toolkits.basemap import Basemap\n",
    "from matplotlib import colors\n",
    "\n",
    "# Setup the Basemap\n",
    "map = Basemap(projection='merc', llcrnrlon=68, llcrnrlat=20,\n",
    "              urcrnrlon=75, urcrnrlat=25, resolution='l')\n",
    "\n",
    "# Plotting the cells with color scale\n",
    "norm = colors.Normalize(vmin=min(biomass_df['biomass']), vmax=max(biomass_df['biomass']))\n",
    "cmap = plt.colormaps['coolwarm']\n",
    "\n",
    "for idx, row in biomass_df[biomass_df['year'] == '2010'].iterrows():\n",
    "    x, y = map(row['lon'], row['lat'])\n",
    "    color = cmap(norm(row['biomass']))\n",
    "    map.plot(x, y, 'o', color=color, markersize=3)\n",
    "    #plt.text(x, y, str(row['biomass']), ha='center', va='bottom')\n",
    "        \n",
    "# Draw coastlines and countries\n",
    "#map.drawcoastlines()\n",
    "#map.readshapefile('gadm36_IND_1', 'india', drawbounds=True, color='gray')\n",
    "\n",
    "# Draw random markers on the map (example)\n",
    "# Convert the latitude and longitude coordinates of the markers to x and y coordinates\n",
    "triangle_lat, triangle_lon = 24.000, 72.000\n",
    "square_lat, square_lon = 22.000, 71.000\n",
    "\n",
    "triangle_x, triangle_y = map(triangle_lon, triangle_lat)\n",
    "square_x, square_y = map(square_lon, square_lat)\n",
    "\n",
    "# Plot the red triangle and the purple square markers\n",
    "map.plot(triangle_x, triangle_y, '^', markersize=7, color='red')\n",
    "map.plot(square_x, square_y, 's', markersize=7, color='purple')\n",
    "\n",
    "\n",
    "# Add labels and title\n",
    "plt.xlabel('Longitude')\n",
    "plt.ylabel('Latitude')\n",
    "plt.title('Biomass production in 2010 in Gujarat, India')\n",
    "\n",
    "# Show the plot\n",
    "plt.show()"
   ]
  },
  {
   "cell_type": "code",
   "execution_count": null,
   "id": "23464951",
   "metadata": {
    "execution": {
     "iopub.execute_input": "2023-08-01T16:54:47.710042Z",
     "iopub.status.busy": "2023-08-01T16:54:47.709646Z",
     "iopub.status.idle": "2023-08-01T16:55:04.651809Z",
     "shell.execute_reply": "2023-08-01T16:55:04.650629Z",
     "shell.execute_reply.started": "2023-08-01T16:54:47.710008Z"
    },
    "papermill": {
     "duration": null,
     "end_time": null,
     "exception": null,
     "start_time": null,
     "status": "pending"
    },
    "tags": []
   },
   "outputs": [],
   "source": [
    "# Setup the Basemap for Gujarat\n",
    "base_map = Basemap(projection='merc', llcrnrlon=68, llcrnrlat=20,\n",
    "                   urcrnrlon=75, urcrnrlat=25, resolution='l')\n",
    "\n",
    "# Extract years and cell values\n",
    "years = sorted(list(biomass_df['year'].unique()))\n",
    "biomass_min = min(biomass_df['biomass'])\n",
    "biomass_max = max(biomass_df['biomass'])\n",
    "\n",
    "# Create the figure and axes\n",
    "fig, ax = plt.subplots()\n",
    "\n",
    "# Plotting the initial cells\n",
    "scatter = ax.scatter([], [], s=10, c=[], cmap='coolwarm', vmin=biomass_min, vmax=biomass_max)\n",
    "plt.xlabel('Longitude')\n",
    "plt.ylabel('Latitude')\n",
    "plt.title('Biomass production in year ' + year +  ' Gujarat, India')\n",
    "\n",
    "# Prepare longitudes and latitudes for the plot ticks\n",
    "longitudes = sorted(list(biomass_df['lon'].round(decimals=2).unique()))\n",
    "selected_lons = list(np.linspace(min(longitudes), max(longitudes), 8).round(2))\n",
    "latitudes = sorted(list(biomass_df['lat'].round(decimals=2).unique()))\n",
    "selected_lats = list(np.linspace(min(latitudes), max(latitudes), 8).round(2))\n",
    "# Set x-axis ticks and labels as longitude values\n",
    "ax.set_xticks([base_map(lon, latitudes[0])[0] for lon in selected_lons])\n",
    "ax.set_xticklabels(selected_lons)\n",
    "# Set y-axis ticks and labels as latitude values\n",
    "ax.set_yticks([base_map(longitudes[0], lat)[1] for lat in selected_lats])\n",
    "ax.set_yticklabels(selected_lats)\n",
    "\n",
    "# Draw coastlines and state boundary\n",
    "# map.drawcoastlines()\n",
    "# map.readshapefile('gadm36_IND_1', 'india', drawbounds=True, color='gray')\n",
    "\n",
    "# Add color scale\n",
    "cbar = plt.colorbar(scatter)\n",
    "cbar.set_label('Biomass production')\n",
    "\n",
    "# Update function for animation\n",
    "def update(frame):\n",
    "    #ax.clear()\n",
    "    # Plotting the updated cells\n",
    "    year = years[frame]\n",
    "    biomass_year_df = biomass_df[biomass_df['year'] == year]\n",
    "    x, y = base_map(biomass_year_df['lon'], biomass_year_df['lat'])\n",
    "    scatter = ax.scatter(x, y, s=10, c=biomass_year_df['biomass'], cmap='coolwarm', vmin=biomass_min, vmax=biomass_max)\n",
    "    ax.set_title('Biomass production in year ' + year +  ' Gujarat, India')\n",
    "    return scatter,\n",
    "\n",
    "# Create animation\n",
    "ani = animation.FuncAnimation(fig, update, frames=len(years), interval=1000, blit=False)\n",
    "\n",
    "# Save and display the animation\n",
    "plt.close()\n",
    "ani.save('biomass.gif', writer='imagemagick')\n",
    "HTML(ani.to_jshtml())"
   ]
  },
  {
   "cell_type": "markdown",
   "id": "38e82d70",
   "metadata": {
    "papermill": {
     "duration": null,
     "end_time": null,
     "exception": null,
     "start_time": null,
     "status": "pending"
    },
    "tags": []
   },
   "source": [
    "# 3. Some general metrics"
   ]
  },
  {
   "cell_type": "code",
   "execution_count": null,
   "id": "cae6fd0e",
   "metadata": {
    "execution": {
     "iopub.execute_input": "2023-08-01T16:55:04.653823Z",
     "iopub.status.busy": "2023-08-01T16:55:04.653416Z",
     "iopub.status.idle": "2023-08-01T16:55:04.747231Z",
     "shell.execute_reply": "2023-08-01T16:55:04.746109Z",
     "shell.execute_reply.started": "2023-08-01T16:55:04.653788Z"
    },
    "papermill": {
     "duration": null,
     "end_time": null,
     "exception": null,
     "start_time": null,
     "status": "pending"
    },
    "tags": []
   },
   "outputs": [],
   "source": [
    "\n",
    "\n",
    "total_biomass_df = biomass_df.groupby('year')['biomass'].sum().reset_index()\n",
    "\n",
    "fig = px.bar(total_biomass_df, x=\"year\", y=\"biomass\",  title=\"Total biomass per year\")\n",
    "fig.show()"
   ]
  },
  {
   "cell_type": "code",
   "execution_count": null,
   "id": "4e7d8f1c",
   "metadata": {
    "execution": {
     "iopub.execute_input": "2023-08-01T16:55:04.749178Z",
     "iopub.status.busy": "2023-08-01T16:55:04.748802Z",
     "iopub.status.idle": "2023-08-01T16:55:04.763685Z",
     "shell.execute_reply": "2023-08-01T16:55:04.762621Z",
     "shell.execute_reply.started": "2023-08-01T16:55:04.749146Z"
    },
    "papermill": {
     "duration": null,
     "end_time": null,
     "exception": null,
     "start_time": null,
     "status": "pending"
    },
    "tags": []
   },
   "outputs": [],
   "source": [
    "# Source: https://www.worldweatheronline.com/ahmedabad-weather-averages/gujarat/in.aspx\n",
    "# From year 2010 to 2019 (both included)\n",
    "rain_mm_july_to_september = [368.61, 429.957, 281.61, 318.21, 266.88, 293.30, 218.96, 439.02, 178.69, 445.07]\n",
    "total_biomass_df['rain_mm_july_to_september'] = rain_mm_july_to_september[:-2]\n",
    "total_biomass_df"
   ]
  },
  {
   "cell_type": "code",
   "execution_count": null,
   "id": "ae4cc27c",
   "metadata": {
    "execution": {
     "iopub.execute_input": "2023-08-01T16:55:04.765347Z",
     "iopub.status.busy": "2023-08-01T16:55:04.765013Z",
     "iopub.status.idle": "2023-08-01T16:55:04.785753Z",
     "shell.execute_reply": "2023-08-01T16:55:04.784563Z",
     "shell.execute_reply.started": "2023-08-01T16:55:04.765319Z"
    },
    "papermill": {
     "duration": null,
     "end_time": null,
     "exception": null,
     "start_time": null,
     "status": "pending"
    },
    "tags": []
   },
   "outputs": [],
   "source": [
    "total_biomass_df.dtypes"
   ]
  },
  {
   "cell_type": "code",
   "execution_count": null,
   "id": "3a99d204",
   "metadata": {
    "execution": {
     "iopub.execute_input": "2023-08-01T16:55:04.790024Z",
     "iopub.status.busy": "2023-08-01T16:55:04.789635Z",
     "iopub.status.idle": "2023-08-01T16:55:04.810180Z",
     "shell.execute_reply": "2023-08-01T16:55:04.808939Z",
     "shell.execute_reply.started": "2023-08-01T16:55:04.789994Z"
    },
    "papermill": {
     "duration": null,
     "end_time": null,
     "exception": null,
     "start_time": null,
     "status": "pending"
    },
    "tags": []
   },
   "outputs": [],
   "source": [
    "norm_total_biomass_df = total_biomass_df.copy()\n",
    "norm_total_biomass_df['biomass'] = (total_biomass_df['biomass'] - total_biomass_df['biomass'].min()) \\\n",
    "                                    / (total_biomass_df['biomass'].max() - total_biomass_df['biomass'].min())\n",
    "norm_total_biomass_df['rain_mm_july_to_september'] = (total_biomass_df['rain_mm_july_to_september'] \\\n",
    "                                                      - total_biomass_df['rain_mm_july_to_september'].min()) \\\n",
    "                                                      / (total_biomass_df['rain_mm_july_to_september'].max() \\\n",
    "                                                         - total_biomass_df['rain_mm_july_to_september'].min())\n",
    "norm_total_biomass_df"
   ]
  },
  {
   "cell_type": "code",
   "execution_count": null,
   "id": "31d07322",
   "metadata": {
    "execution": {
     "iopub.execute_input": "2023-08-01T16:55:04.812028Z",
     "iopub.status.busy": "2023-08-01T16:55:04.811593Z",
     "iopub.status.idle": "2023-08-01T16:55:04.838041Z",
     "shell.execute_reply": "2023-08-01T16:55:04.837144Z",
     "shell.execute_reply.started": "2023-08-01T16:55:04.811985Z"
    },
    "papermill": {
     "duration": null,
     "end_time": null,
     "exception": null,
     "start_time": null,
     "status": "pending"
    },
    "tags": []
   },
   "outputs": [],
   "source": [
    "# Create traces\n",
    "fig = go.Figure()\n",
    "fig.add_trace(go.Scatter(x=norm_total_biomass_df['year'], y=norm_total_biomass_df['biomass'],\n",
    "                    mode='lines+markers',\n",
    "                    name='biomass'))\n",
    "fig.add_trace(go.Scatter(x=norm_total_biomass_df['year'], y=norm_total_biomass_df['rain_mm_july_to_september'],\n",
    "                    mode='lines+markers',\n",
    "                    name='rain_mm_july_to_september'))\n",
    "fig.show()"
   ]
  },
  {
   "cell_type": "code",
   "execution_count": null,
   "id": "3002aae2",
   "metadata": {
    "papermill": {
     "duration": null,
     "end_time": null,
     "exception": null,
     "start_time": null,
     "status": "pending"
    },
    "tags": []
   },
   "outputs": [],
   "source": []
  }
 ],
 "metadata": {
  "kernelspec": {
   "display_name": "Python 3",
   "language": "python",
   "name": "python3"
  },
  "language_info": {
   "codemirror_mode": {
    "name": "ipython",
    "version": 3
   },
   "file_extension": ".py",
   "mimetype": "text/x-python",
   "name": "python",
   "nbconvert_exporter": "python",
   "pygments_lexer": "ipython3",
   "version": "3.10.12"
  },
  "papermill": {
   "default_parameters": {},
   "duration": 12.263795,
   "end_time": "2023-08-01T16:55:52.568368",
   "environment_variables": {},
   "exception": true,
   "input_path": "__notebook__.ipynb",
   "output_path": "__notebook__.ipynb",
   "parameters": {},
   "start_time": "2023-08-01T16:55:40.304573",
   "version": "2.4.0"
  }
 },
 "nbformat": 4,
 "nbformat_minor": 5
}
